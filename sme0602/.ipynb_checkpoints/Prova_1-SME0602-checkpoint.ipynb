{
 "cells": [
  {
   "cell_type": "markdown",
   "metadata": {},
   "source": [
    "# Instruções\n",
    "\n",
    "A prova deve ser entregue através da página da disciplina no eDisciplinas. Os formatos aceitáveis são html e pdf. Por favor, não entreguem em formatos \"executáveis\", como os notebooks do Jupyter.\n",
    "\n",
    "A prova pode ser entrege até amanhã (3 de junho de 2021) às 10:20h (dez horas e vinte minutos da manhã).\n",
    "\n",
    "Hoje estarei disponível durante o horário de aula, mas não estarei olhando diretaente para a sala da reunião, portanto, em caso de dúvidas, abra o microfone, me chame e aguarde um minuto até que eu encontre a janela e respoda seu chamado.\n",
    "\n",
    "Boa prova, as questões são fáceis. Não colem (o professor fica muito triste mesmo quando isso ocorre)."
   ]
  },
  {
   "cell_type": "markdown",
   "metadata": {},
   "source": [
    "# Questão 1\n",
    "\n",
    "Prove que a função $\\DeclareMathOperator{\\sen}{sen}\\sen( x )$ possui uma raiz entre $3.1$ e $3.2$."
   ]
  },
  {
   "cell_type": "markdown",
   "metadata": {},
   "source": [
    "# Questão 2\n",
    "\n",
    "Comente sobre as diferenças entre o Método de Newton e o Método da Secante. Qual você utilizaria sob circunstâncias normais e por quê?"
   ]
  },
  {
   "cell_type": "markdown",
   "metadata": {},
   "source": [
    "# Questão 3\n",
    "\n",
    "Suponha que uma sequência $x_k\\def\\vect{\\boldsymbol}$ convirja com __ordem de convergência__ $p$. Ou seja:\n",
    "\n",
    "$$\\large\n",
    "\\lim_{k \\to \\infty}\\frac{|\\vect x_{k + 1} - \\vect x^*|}{|\\vect x_{k} - \\vect x^*|^p} = c,\n",
    "$$\n",
    "\n",
    "onde $x^*$ é o limite para o qual $\\{ x_k \\}$ converge e $c > 0$ é uma constante.\n",
    "\n",
    "Explique a identidade aproximada\n",
    "\n",
    "$$\\large\n",
    "p \\approx \\frac{\\log \\displaystyle\\frac{|\\vect x_{k + 2} - \\vect x^*|}{|\\vect x_{k + 1} - \\vect x^*|}}{\\log \\displaystyle\\frac{|\\vect x_{k + 1} - \\vect x^*|}{|\\vect x_{k} - \\vect x^*|}}\n",
    "$$\n",
    "\n",
    "Ou seja, prove que\n",
    "$$\\large\n",
    "\\lim_{k \\to \\infty} \\frac{\\log \\displaystyle\\frac{|\\vect x_{k + 2} - \\vect x^*|}{|\\vect x_{k + 1} - \\vect x^*|}}{\\log \\displaystyle\\frac{|\\vect x_{k + 1} - \\vect x^*|}{|\\vect x_{k} - \\vect x^*|}} = p.\n",
    "$$"
   ]
  },
  {
   "cell_type": "markdown",
   "metadata": {},
   "source": [
    "# Questão  4\n",
    "\n",
    "Suponha que você possua uma fatoração $AQ = LU$ onde $Q$ é uma matriz obtida através da permutação das linhas da identidade e $L$ e $U$ são triangulares inferior e superior, respectivamente.\n",
    "\n",
    "1. Qual ação o produto $AQ$ tem sobre $A$?\n",
    "2. Como você resolveria um sistema linear $A\\vect x = \\vect b$ utilizando esta fatoração?"
   ]
  },
  {
   "cell_type": "markdown",
   "metadata": {},
   "source": [
    "# Questão 5\n",
    "\n",
    "O método da eliminação gaussiana para o cálculo da fatoração $A = LU$ pode ser instável na presença de erros de arredondamento. O presente exercício ilustra a situação, vamos considerar o que ocorre ao aplicarmos o algoritmo de eliminação gaussiana à matriz\n",
    "\n",
    "$$\n",
    "   A = \\left(\n",
    "      \\begin{array}{cc}\n",
    "         10^{-20}&1\\\\\n",
    "         1&1\n",
    "      \\end{array}\n",
    "   \\right).\n",
    "$$\n",
    "\n",
    "O número $10^{-20}$ é muito menor do que os outros coeficientes da matriz, mas não é nulo, então a eliminação prossegue. Para tanto, precisamos multiplicar a primeira linha por $10^{20}$ e subtraí-la da segunda:\n",
    "\n",
    "$$\n",
    "   L = \\left(\n",
    "      \\begin{array}{cc}\n",
    "         1&\\\\\n",
    "         10^{20}&1\n",
    "      \\end{array}\n",
    "   \\right), \\quad\n",
    "   U = \\left(\n",
    "      \\begin{array}{cc}\n",
    "         10^{-20}&1\\\\\n",
    "         0&1-10^{20}\n",
    "      \\end{array}\n",
    "   \\right).\n",
    "$$\n",
    "\n",
    "Porém, na aritmética de precisão dupla implementada na maioria dos computadores, $1 - 10^{20}$ não pode ser representado pois precisaria de mais de $16$ casas decimais e é arredondado para $-10^{20}$. Assim, de fato obtemos\n",
    "\n",
    "$$\n",
    "   \\tilde L = \\left(\n",
    "      \\begin{array}{cc}\n",
    "         1&\\\\\n",
    "         10^{20}&1\n",
    "      \\end{array}\n",
    "   \\right), \\quad\n",
    "   \\tilde U = \\left(\n",
    "      \\begin{array}{cc}\n",
    "         10^{-20}&1\\\\\n",
    "         0&-10^{20}\n",
    "      \\end{array}\n",
    "   \\right).\n",
    "$$\n",
    "\n",
    "Mostre que apesar da diferença entre $\\tilde U$ e $U$ ser relativamente pequena, a diferença entre $\\tilde L\\tilde U$ e $A$ é consideravelmente grande. Como isso se reflete na solução de sistemas lineares envolvendo esta matriz utilizando a eliminação gaussiana?"
   ]
  }
 ],
 "metadata": {
  "kernelspec": {
   "display_name": "Python 3",
   "language": "python",
   "name": "python3"
  },
  "language_info": {
   "codemirror_mode": {
    "name": "ipython",
    "version": 3
   },
   "file_extension": ".py",
   "mimetype": "text/x-python",
   "name": "python",
   "nbconvert_exporter": "python",
   "pygments_lexer": "ipython3",
   "version": "3.8.5"
  }
 },
 "nbformat": 4,
 "nbformat_minor": 2
}
