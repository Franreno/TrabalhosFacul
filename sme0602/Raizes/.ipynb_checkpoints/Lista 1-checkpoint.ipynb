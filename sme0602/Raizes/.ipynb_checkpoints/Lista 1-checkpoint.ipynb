{
 "cells": [
  {
   "cell_type": "markdown",
   "metadata": {},
   "source": [
    "# 1\n",
    "\n",
    "Prove que a função $\\DeclareMathOperator{\\sen}{sen}\\sen( x )$ possui uma raiz entre $3.1$ e $3.2$."
   ]
  },
  {
   "cell_type": "markdown",
   "metadata": {},
   "source": [
    "# 2\n",
    "Você consegue provar que essa raiz é única?"
   ]
  },
  {
   "cell_type": "markdown",
   "metadata": {},
   "source": [
    "# 3\n",
    "Observe que $x^* = \\sqrt[n]{a}$ é a solução de $f( x^* ) = 0$ onde $f( x ) = x^n - a$. Utilize o método de Newton para justificar o algoritmo\n",
    "$$\\large\n",
    "x_{k + 1} = \\frac{( n - 1 )x_k^n + a}{nx_k^{n - 1}}\n",
    "$$\n",
    "para calcular a raiz $n$-ésima de $a$.\n",
    "\n",
    "Abaixo você tem uma implementação do algoritmo pra testar e modificar."
   ]
  },
  {
   "cell_type": "code",
   "execution_count": 1,
   "metadata": {},
   "outputs": [],
   "source": [
    "def raiz( a, n, tol = 1e-10 ):\n",
    "    \n",
    "    x = a\n",
    "    \n",
    "    stop_iter = False\n",
    "    \n",
    "    while not stop_iter:\n",
    "        \n",
    "        x_pre = x\n",
    "        \n",
    "        x = ( ( n - 1 ) * ( x ** n ) + a ) / ( n * ( x ** ( n - 1 ) ) )\n",
    "        \n",
    "        stop_iter = ( abs( x_pre - x ) <= tol )\n",
    "        \n",
    "    return x"
   ]
  },
  {
   "cell_type": "code",
   "execution_count": 7,
   "metadata": {},
   "outputs": [
    {
     "name": "stdout",
     "output_type": "stream",
     "text": [
      "1000.0\n"
     ]
    }
   ],
   "source": [
    "print( raiz( 1e6, 2 ) )"
   ]
  },
  {
   "cell_type": "markdown",
   "metadata": {},
   "source": [
    "# 4\n",
    "\n",
    "Comente sobre as diferenças entre o Método de Newton e o Método da Secante. Qual você utilizaria sob circunstâncias normais e por quê? Dica: veja o exercício abaixo."
   ]
  },
  {
   "cell_type": "markdown",
   "metadata": {},
   "source": [
    "# 5\n",
    "\n",
    "\n",
    "$\\def\\vect{{}}$O Método da Secante satisfaz\n",
    "$$\\large\n",
    "\\lim_{k \\to \\infty}\\frac{|\\vect x_{k + 1} - \\vect x^*|}{|\\vect x_{k} - \\vect x^*|^\\phi} = c\n",
    "$$\n",
    "\n",
    "\n",
    "com $\\phi = \\big( 1 + \\sqrt{5} \\bigr) / 2$ e $c \\ge 0$. Prove que ele satisfaz\n",
    "\n",
    "\n",
    "$$\\large\n",
    "\\lim_{k \\to \\infty}\\frac{|\\vect x_{k + 2} - \\vect x^*|}{|\\vect x_{k} - \\vect x^*|^{\\phi^2}} = c^{1 + \\phi}.\n",
    "$$\n",
    "\n",
    "Como $\\phi^2 > 2$, utilize esse resultado para mostrar que em muitas circunstâncias o Método da Secante é mais vantajoso do que o Método de Newton."
   ]
  },
  {
   "cell_type": "markdown",
   "metadata": {},
   "source": [
    "# 6\n",
    "\n",
    "Descreva uma situação em que o Método de Newton é mais eficiente do que o Método da Secante."
   ]
  },
  {
   "cell_type": "markdown",
   "metadata": {},
   "source": [
    "# 7\n",
    "\n",
    "Faça uma comparação entre o método da bissecção para achar zeros de funções e o algoritmo de busca binária para encontrar elementos em uma lista ordenada."
   ]
  },
  {
   "cell_type": "markdown",
   "metadata": {},
   "source": [
    "# 8\n",
    "\n",
    "Suponha que uma sequência $x_k$ convirja com __ordem de convergência__ $p$. Ou seja:\n",
    "\n",
    "$$\\large\n",
    "\\lim_{k \\to \\infty}\\frac{|\\vect x_{k + 1} - \\vect x^*|}{|\\vect x_{k} - \\vect x^*|^p} = c,\n",
    "$$\n",
    "\n",
    "onde $x^*$ é o limite para o qual $\\{ x_k \\}$ converge e $c > 0$ é uma constante.\n",
    "\n",
    "Explique a identidade aproximada\n",
    "\n",
    "$$\\large\n",
    "p \\approx \\frac{\\log \\displaystyle\\frac{|\\vect x_{k + 2} - \\vect x^*|}{|\\vect x_{k + 1} - \\vect x^*|}}{\\log \\displaystyle\\frac{|\\vect x_{k + 1} - \\vect x^*|}{|\\vect x_{k} - \\vect x^*|}}\n",
    "$$\n",
    "\n",
    "Ou seja, prove que\n",
    "$$\\large\n",
    "\\lim_{k \\to \\infty} \\frac{\\log \\displaystyle\\frac{|\\vect x_{k + 2} - \\vect x^*|}{|\\vect x_{k + 1} - \\vect x^*|}}{\\log \\displaystyle\\frac{|\\vect x_{k + 1} - \\vect x^*|}{|\\vect x_{k} - \\vect x^*|}} = p.\n",
    "$$"
   ]
  },
  {
   "cell_type": "markdown",
   "metadata": {},
   "source": [
    "# 9\n",
    "\n",
    "Utilize a expressão acima para estimar a ordem de convergência $p$ do método de Newton quando aplicado aos problemas:\n",
    "\n",
    "1. Encontrar $\\pi$ resolvendo $\\sen( x ) = 0$\n",
    "2. Encontrar a altura da coluna d'água no problema do coxo cilíndrico\n",
    "3. Encontrar $\\pi$ resolvendo $\\cos( x ) + 1 = 0$\n",
    "\n",
    "Explique os resultados encontrados"
   ]
  },
  {
   "cell_type": "code",
   "execution_count": 12,
   "metadata": {},
   "outputs": [],
   "source": [
    "import numpy as np"
   ]
  },
  {
   "cell_type": "code",
   "execution_count": 17,
   "metadata": {},
   "outputs": [],
   "source": [
    "def p_est( seq ):\n",
    "    \n",
    "    x = seq[ -1 ]\n",
    "    seq = seq[ : -1 ]\n",
    "    \n",
    "    while x - seq[ -1 ] == 0.0:\n",
    "        seq = seq[ : -1 ]\n",
    "    \n",
    "    retval = np.log( abs( seq[ -1 ] - x ) / abs( seq[ -2 ] - x ) )\n",
    "    retval = retval / np.log( abs( seq[ -2 ] - x ) / abs( seq[ -3 ] - x ) )\n",
    "        \n",
    "    return retval"
   ]
  },
  {
   "cell_type": "code",
   "execution_count": 14,
   "metadata": {},
   "outputs": [],
   "source": [
    "def newton( f, df, x, tol = 1e-10 ):\n",
    "    \n",
    "    stop = False\n",
    "    iters = [ x ]\n",
    "    \n",
    "    while not stop:\n",
    "        \n",
    "        x_k = iters[ -1 ]\n",
    "        iters.append( x_k - f( x_k ) / df( x_k ) )\n",
    "        \n",
    "        stop = ( abs( iters[ -1 ] - iters[ -2 ] ) <= tol )\n",
    "        \n",
    "    return iters"
   ]
  },
  {
   "cell_type": "code",
   "execution_count": 18,
   "metadata": {},
   "outputs": [
    {
     "name": "stdout",
     "output_type": "stream",
     "text": [
      "3.001610578515939\n"
     ]
    }
   ],
   "source": [
    "print( p_est( newton( np.sin, np.cos, 3.0, tol = 1e-16 ) ) )"
   ]
  },
  {
   "cell_type": "markdown",
   "metadata": {},
   "source": [
    "# 10\n",
    "\n",
    "Repita o exercício anterior desta vez utilizando o método da secante."
   ]
  },
  {
   "cell_type": "markdown",
   "metadata": {},
   "source": [
    "# 11\n",
    "\n",
    "Utilize um desenho para explicar o método de Newton e para chegar à formula para suas iterações"
   ]
  },
  {
   "cell_type": "markdown",
   "metadata": {},
   "source": [
    "# 12\n",
    "\n",
    "Repita o exercício anterior desta vez utilizando o método da secante."
   ]
  }
 ],
 "metadata": {
  "kernelspec": {
   "display_name": "Python 3",
   "language": "python",
   "name": "python3"
  },
  "language_info": {
   "codemirror_mode": {
    "name": "ipython",
    "version": 3
   },
   "file_extension": ".py",
   "mimetype": "text/x-python",
   "name": "python",
   "nbconvert_exporter": "python",
   "pygments_lexer": "ipython3",
   "version": "3.8.5"
  }
 },
 "nbformat": 4,
 "nbformat_minor": 2
}
