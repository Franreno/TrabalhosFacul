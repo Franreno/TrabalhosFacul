{
 "cells": [
  {
   "cell_type": "markdown",
   "metadata": {},
   "source": [
    "# Avaliação"
   ]
  },
  {
   "cell_type": "markdown",
   "metadata": {},
   "source": [
    "1. Duas provas, com valor de $3$ pontos cada\n",
    "       a. P1: dia 02 de junho\n",
    "       b. P2: dia 21 de julho\n",
    "2. Um projeto prático com valor de $4$ pontos"
   ]
  },
  {
   "cell_type": "markdown",
   "metadata": {},
   "source": [
    "# Ementa"
   ]
  },
  {
   "cell_type": "markdown",
   "metadata": {},
   "source": [
    "## Objetivos\n",
    "\n",
    "Familiarização do aluno com as técnicas computacionais da Álgebra Linear, da Álgebra e da Análise Matemática, através do estudo de métodos numéricos, com uso intensivo de computadores digitais."
   ]
  },
  {
   "cell_type": "markdown",
   "metadata": {},
   "source": [
    "1. Representação de números no computador\n",
    "2. Erros em métodos numéricos\n",
    "3. Soluções de equações: métodos iterativos de Newton, Secantes\n",
    "4. Soluções de sistemas de equações não-lineares: método iterativo linear, método de Newton.\n",
    "5. Soluções de equações lineares: métodos exatos - LU, eliminação de Gauss, fatoração $PA = LU$\n",
    "6. Soluções de equações lineares: métodos iterativos - Gauss-Seidel, Jacobi-Richardson.\n",
    "7. Determinação numérica de auto-valores e auto-vetores: métodos das potências e Jacobi\n",
    "8. Aproximação de funções: método dos quadrados mínimos.\n",
    "9. Aproximação de funções: interpolação Polinomial de Lagrange e de Newton.\n",
    "10. Integração Numérica: fórmulas de Newton-Cotes e Gauss.\n",
    "$$\n",
    "\\mathrm{erf}( x ) := \\int_0^x e^{-t^2} \\mathrm dt\n",
    "$$\n",
    "11. Solução numérica de equações diferenciais ordinárias: método de Euler, Taylor de ordem superior, método do tipo Previsor-Corretor e método de Runge-Kutta explícito"
   ]
  },
  {
   "cell_type": "code",
   "execution_count": 1,
   "metadata": {},
   "outputs": [],
   "source": [
    "import math\n",
    "import numpy as np"
   ]
  },
  {
   "cell_type": "code",
   "execution_count": 2,
   "metadata": {},
   "outputs": [
    {
     "name": "stdout",
     "output_type": "stream",
     "text": [
      "1.2246467991473532e-16\n"
     ]
    }
   ],
   "source": [
    "print( math.sin( math.pi ) )"
   ]
  },
  {
   "cell_type": "code",
   "execution_count": 3,
   "metadata": {},
   "outputs": [
    {
     "data": {
      "text/plain": [
       "0.9999999999999999"
      ]
     },
     "execution_count": 3,
     "metadata": {},
     "output_type": "execute_result"
    }
   ],
   "source": [
    "sum( 10 * [ 0.1 ] )"
   ]
  },
  {
   "cell_type": "code",
   "execution_count": 4,
   "metadata": {},
   "outputs": [
    {
     "data": {
      "text/plain": [
       "0.9999999999999999"
      ]
     },
     "execution_count": 4,
     "metadata": {},
     "output_type": "execute_result"
    }
   ],
   "source": [
    "0.1 + 0.1 + 0.1 + 0.1 + 0.1 + 0.1 + 0.1 + 0.1 + 0.1 + 0.1"
   ]
  },
  {
   "cell_type": "code",
   "execution_count": 5,
   "metadata": {},
   "outputs": [
    {
     "name": "stdout",
     "output_type": "stream",
     "text": [
      "Socorro!\n"
     ]
    }
   ],
   "source": [
    "res = sum( 10 * [ 0.1 ] )\n",
    "if ( not ( res == 1.0 ) ):\n",
    "    print( 'Socorro!' )"
   ]
  },
  {
   "cell_type": "markdown",
   "metadata": {},
   "source": [
    "# Bibliografia\n",
    "\n",
    "1. BURDEN, R. L.; FAIRES, J. D., Análise Numérica , Thompson – 2003.\n",
    "2. FRANCO, N.B. Cálculo Numérico, Editora Pearson Education (2006).\n",
    "2. Quarteroni, A.; Saleri, F.; Gervasio, P. Scientific Computing with MATLAB and Octave. Springer, 2014. ISBN: 978-3-642-45366-3. Bibliografia\n",
    "\n",
    "Complementar:\n",
    "2. RUGGIERO, M.A.G.; LOPES, V.L.R. Cálculo Numérico: Aspectos Teóricos e Computacionais, Makron Books, 2a Edição, 1997.\n",
    "\n",
    "\n",
    "(para mais, verificar no sistema Jupiter)"
   ]
  },
  {
   "cell_type": "code",
   "execution_count": 6,
   "metadata": {},
   "outputs": [],
   "source": [
    "def bisseccao( f, a, b, tol = 1e-10 ):\n",
    "    \n",
    "    while abs( b - a ) > 2.0 * tol:\n",
    "        \n",
    "        c = ( a + b ) / 2.0\n",
    "        \n",
    "        if f( a ) * f( c ) < 0.0:\n",
    "            b = c\n",
    "        elif f( b ) * f( c ) < 0.0:\n",
    "            a = c\n",
    "        else:\n",
    "            return c\n",
    "        \n",
    "    return ( a + b ) / 2.0"
   ]
  },
  {
   "cell_type": "markdown",
   "metadata": {},
   "source": [
    "# Exercício:\n",
    "\n",
    "Implemente o algoritmo da bissecção de forma que ele avalie apenas uma vez a função a cada iteração."
   ]
  },
  {
   "cell_type": "code",
   "execution_count": 7,
   "metadata": {},
   "outputs": [
    {
     "name": "stdout",
     "output_type": "stream",
     "text": [
      "4.143974052794874e-11\n"
     ]
    }
   ],
   "source": [
    "res = bisseccao( math.sin, 3.0, 3.15 )\n",
    "print( res - math.pi )"
   ]
  },
  {
   "cell_type": "code",
   "execution_count": 8,
   "metadata": {},
   "outputs": [],
   "source": [
    "import sympy"
   ]
  },
  {
   "cell_type": "code",
   "execution_count": 9,
   "metadata": {},
   "outputs": [],
   "source": [
    "( L, h, r, t ) = sympy.symbols( 'L, h, r, t' )"
   ]
  },
  {
   "cell_type": "markdown",
   "metadata": {},
   "source": [
    "Pessoal, foi só remover os extremos de integração que o sympy conseguiu calcular, vejam abaixo:"
   ]
  },
  {
   "cell_type": "code",
   "execution_count": 10,
   "metadata": {},
   "outputs": [
    {
     "data": {
      "text/latex": [
       "$\\displaystyle 2 \\left(\\begin{cases} - \\frac{i r^{2} \\operatorname{acosh}{\\left(\\frac{h - r}{r} \\right)}}{2} - \\frac{i r \\left(h - r\\right)}{2 \\sqrt{-1 + \\frac{\\left(h - r\\right)^{2}}{r^{2}}}} + \\frac{i \\left(h - r\\right)^{3}}{2 r \\sqrt{-1 + \\frac{\\left(h - r\\right)^{2}}{r^{2}}}} & \\text{for}\\: \\left|{\\frac{\\left(h - r\\right)^{2}}{r^{2}}}\\right| > 1 \\\\\\frac{r^{2} \\operatorname{asin}{\\left(\\frac{h - r}{r} \\right)}}{2} + \\frac{r \\sqrt{1 - \\frac{\\left(h - r\\right)^{2}}{r^{2}}} \\left(h - r\\right)}{2} & \\text{otherwise} \\end{cases}\\right)$"
      ],
      "text/plain": [
       "2*Piecewise((-I*r**2*acosh((h - r)/r)/2 - I*r*(h - r)/(2*sqrt(-1 + (h - r)**2/r**2)) + I*(h - r)**3/(2*r*sqrt(-1 + (h - r)**2/r**2)), Abs((h - r)**2/r**2) > 1), (r**2*asin((h - r)/r)/2 + r*sqrt(1 - (h - r)**2/r**2)*(h - r)/2, True))"
      ]
     },
     "execution_count": 10,
     "metadata": {},
     "output_type": "execute_result"
    }
   ],
   "source": [
    "sympy.integrate( 2 * sympy.sqrt( r ** 2 - ( r - h ) ** 2 ), h )"
   ]
  },
  {
   "cell_type": "markdown",
   "metadata": {},
   "source": [
    "Temos um cocho de perfil circular com raio $r$ e comprimento $L$. O volume de água contindo no cocho cheio até a altura $h$ será, portanto,\n",
    "$$\\large\n",
    "L\\bigl( F( h ) - F( 0 ) \\bigr),\n",
    "$$\n",
    "onde $F$ é a função acima.\n",
    "\n",
    "Ou seja, queremos resolver\n",
    "$$\\large\n",
    "L\\bigl( F( h ) - F( 0 ) \\bigr) = V,\n",
    "$$\n",
    "onde $V$ é o volume desejado."
   ]
  },
  {
   "cell_type": "markdown",
   "metadata": {},
   "source": [
    "Então, desejamos a solução de\n",
    "$$\\large\n",
    "L\\bigl( F( h ) - F( 0 ) \\bigr) - V = 0.\n",
    "$$\n",
    "\n",
    "Ou seja, um problema da forma $f( h^* ) = 0$ onde\n",
    "$$\\large\n",
    "f( h ) = L\\bigl( F( h ) - F( 0 ) \\bigr) - V.\n",
    "$$"
   ]
  },
  {
   "cell_type": "code",
   "execution_count": 11,
   "metadata": {},
   "outputs": [],
   "source": [
    "L = 2\n",
    "r = 0.25\n",
    "\n",
    "V = 0.1\n",
    "\n",
    "def F( h ):\n",
    "    res = ( r ** 2 ) * np.arcsin( ( h - r ) / r )\n",
    "    res += r * ( h - r ) * np.sqrt( 1 - ( ( h - r ) / r ) ** 2 )\n",
    "    \n",
    "    return res\n",
    "\n",
    "def f_cocho( h ):\n",
    "    \n",
    "    return L * ( F( h ) - F( 0 ) ) - V"
   ]
  },
  {
   "cell_type": "code",
   "execution_count": 12,
   "metadata": {},
   "outputs": [
    {
     "name": "stdout",
     "output_type": "stream",
     "text": [
      "-0.044088097749798466\n",
      "0.046684903322738946\n"
     ]
    }
   ],
   "source": [
    "print( f_cocho( 0.1 ) )\n",
    "print( f_cocho( 0.2 ) )"
   ]
  },
  {
   "cell_type": "code",
   "execution_count": 13,
   "metadata": {},
   "outputs": [
    {
     "name": "stdout",
     "output_type": "stream",
     "text": [
      "0.150998298181645\n"
     ]
    }
   ],
   "source": [
    "h = bisseccao( f_cocho, 0.1, 0.2, tol = 1e-14 )\n",
    "print( h )"
   ]
  },
  {
   "cell_type": "code",
   "execution_count": 14,
   "metadata": {},
   "outputs": [
    {
     "name": "stdout",
     "output_type": "stream",
     "text": [
      "-2.4702462297909733e-15\n"
     ]
    }
   ],
   "source": [
    "print( L * ( F( h ) - F( 0 ) ) - 0.1 )"
   ]
  },
  {
   "cell_type": "code",
   "execution_count": 15,
   "metadata": {},
   "outputs": [
    {
     "data": {
      "text/plain": [
       "True"
      ]
     },
     "execution_count": 15,
     "metadata": {},
     "output_type": "execute_result"
    }
   ],
   "source": [
    "# Um curioso efeito da representação de precisão finita:\n",
    "\n",
    "1 + 1e-17 == 1"
   ]
  },
  {
   "cell_type": "code",
   "execution_count": null,
   "metadata": {},
   "outputs": [],
   "source": []
  }
 ],
 "metadata": {
  "kernelspec": {
   "display_name": "Python 3",
   "language": "python",
   "name": "python3"
  },
  "language_info": {
   "codemirror_mode": {
    "name": "ipython",
    "version": 3
   },
   "file_extension": ".py",
   "mimetype": "text/x-python",
   "name": "python",
   "nbconvert_exporter": "python",
   "pygments_lexer": "ipython3",
   "version": "3.6.9"
  }
 },
 "nbformat": 4,
 "nbformat_minor": 2
}
