{
 "cells": [
  {
   "cell_type": "markdown",
   "metadata": {},
   "source": [
    "# Fatoração $PA=LU$"
   ]
  },
  {
   "cell_type": "code",
   "execution_count": 1,
   "metadata": {},
   "outputs": [],
   "source": [
    "import numpy as np\n",
    "import sympy as sp\n",
    "import IPython.display as dp\n",
    "import time"
   ]
  },
  {
   "cell_type": "code",
   "execution_count": 2,
   "metadata": {},
   "outputs": [],
   "source": [
    "def mostra_matriz(\n",
    "    A_list,\n",
    "    b = None,\n",
    "    format_str = [ '%+.2f' ],\n",
    "    l_delim = '(', r_delim = ')',\n",
    "    spacer = [ '' ],\n",
    "    thres = [ 1e-6 ],\n",
    "    destaque_red = [],\n",
    "    destaque_blue = [],\n",
    "    destaque_green = []\n",
    "):\n",
    "\n",
    "    out_latex = '$$'\n",
    "    count = 0\n",
    "    for A in A_list:\n",
    "        ( m, n ) = A.shape\n",
    "\n",
    "        out_latex += '\\\\left' + l_delim + '\\\\begin{array}{' + ( n * 'c' ) + '}'\n",
    "        for i in range( m ):\n",
    "            for j in range( n ):\n",
    "                if abs( A[ i, j ] ) >= thres[ count % len( thres ) ]:\n",
    "                    if ( count, i, j ) in destaque_green:\n",
    "                        out_latex += '\\\\color{green}{'\n",
    "                        out_latex += ( format_str[ count % len( format_str ) ] + '}&' ) % ( A[ i, j ], )\n",
    "                    elif ( count, i, j ) in destaque_red:\n",
    "                        out_latex += '\\\\color{red}{'\n",
    "                        out_latex += ( format_str[ count % len( format_str ) ] + '}&' ) % ( A[ i, j ], )\n",
    "                    elif ( count, i, j ) in destaque_blue:\n",
    "                        out_latex += '\\\\color{blue}{'\n",
    "                        out_latex += ( format_str[ count % len( format_str ) ] + '}&' ) % ( A[ i, j ], )\n",
    "                    else:\n",
    "                        out_latex += ( format_str[ count % len( format_str ) ] + '&' ) % ( A[ i, j ], )\n",
    "                else:\n",
    "                    out_latex += '&'\n",
    "            out_latex = out_latex[ : -1 ]\n",
    "            if i < m - 1:\n",
    "                out_latex += '\\\\\\\\'\n",
    "\n",
    "\n",
    "        out_latex += '\\\\end{array}\\\\right' + r_delim + spacer[ count % len( spacer ) ]\n",
    "        count = count + 1\n",
    "    \n",
    "    out_latex += '$$'\n",
    "    \n",
    "    dp.display_latex( dp.Latex( out_latex ) )"
   ]
  },
  {
   "cell_type": "code",
   "execution_count": 3,
   "metadata": {},
   "outputs": [],
   "source": [
    "def elimina_gauss( A ):\n",
    "    \n",
    "    n = A.shape[ 0 ]\n",
    "    L = np.eye( n )\n",
    "    U = A.copy()\n",
    "    \n",
    "    retval = [ [ L.copy(), U.copy() ] ]\n",
    "    \n",
    "    for i in range( n ):\n",
    "        for k in range( i + 1, n ):\n",
    "            \n",
    "            alpha = U[ k, i ] / U[ i, i ]\n",
    "            \n",
    "            for j in range( i, n ):\n",
    "                U[ k, j ] = U[ k, j ] - alpha * U[ i, j ]\n",
    "                \n",
    "            L[ k, i ] = alpha\n",
    "            \n",
    "            retval.append( [ L.copy(), U.copy() ] )\n",
    "            \n",
    "    return retval"
   ]
  },
  {
   "cell_type": "code",
   "execution_count": 4,
   "metadata": {},
   "outputs": [
    {
     "data": {
      "text/latex": [
       "$$\\left(\\begin{array}{cccc}1&1&1&1\\\\1&2&3&4\\\\1&3&4&3\\\\1&1&0&0\\end{array}\\right)$$"
      ]
     },
     "metadata": {},
     "output_type": "display_data"
    }
   ],
   "source": [
    "A = np.array(\n",
    "    [\n",
    "        [ 1.0, 1.0, 1.0, 1.0 ],\n",
    "        [ 1.0, 2.0, 3.0, 4.0 ],\n",
    "        [ 1.0, 3.0, 4.0, 3.0 ],\n",
    "        [ 1.0, 1.0, 0.0, 0.0 ]\n",
    "    ]\n",
    ")\n",
    "\n",
    "mostra_matriz( [ A ], format_str = [ '%.f' ], thres = [ -1.0 ] )\n",
    "\n",
    "res = elimina_gauss( A )"
   ]
  },
  {
   "cell_type": "code",
   "execution_count": 5,
   "metadata": {},
   "outputs": [
    {
     "data": {
      "text/latex": [
       "$$\\left(\\begin{array}{cccc}1&&&\\\\1&1&&\\\\1&2&1&\\\\1&&&1\\end{array}\\right)\\left(\\begin{array}{cccc}1&1&1&1\\\\&1&2&3\\\\&&-1&-4\\\\&&-1&-1\\end{array}\\right)=\\left(\\begin{array}{cccc}1&1&1&1\\\\1&2&3&4\\\\1&3&4&3\\\\1&1&0&0\\end{array}\\right)$$"
      ]
     },
     "metadata": {},
     "output_type": "display_data"
    }
   ],
   "source": [
    "i = -2\n",
    "mostra_matriz(\n",
    "    res[ i ] + [ res[ i ][ 0 ] @ res[ i ][ 1 ] ],\n",
    "    spacer = [ '', '=' ],\n",
    "    format_str = [ '%.f', '%.f', '%.f' ],\n",
    "    thres = [ 1e-5, 1e-5, -1.0 ],\n",
    "#     destaque_red = [ ( 1, i + 1, j ) for j in range( 4 ) ],\n",
    "#     destaque_blue = [ ( 1, int( i / 4 ), j ) for j in range( 4 ) ],\n",
    "#     destaque_green = [ ( 0, i , 0 ) ]\n",
    ")"
   ]
  },
  {
   "cell_type": "code",
   "execution_count": 6,
   "metadata": {},
   "outputs": [
    {
     "data": {
      "text/latex": [
       "$$\\left(\\begin{array}{cccc}1.00&&&\\\\\\color{red}{1.00}&\\color{red}{1.00}&&\\\\&&1.00&\\\\&&&1.00\\end{array}\\right)\\left(\\begin{array}{cccc}1&1&\\color{blue}{1}&1\\\\0&1&\\color{blue}{2}&3\\\\1&3&\\color{blue}{4}&3\\\\1&1&\\color{blue}{0}&0\\end{array}\\right)=\\left(\\begin{array}{cccc}1&1&1&1\\\\1&2&\\color{green}{3}&4\\\\1&3&4&3\\\\1&1&0&0\\end{array}\\right)$$"
      ]
     },
     "metadata": {},
     "output_type": "display_data"
    }
   ],
   "source": [
    "i = 1\n",
    "k = 1\n",
    "l = 2\n",
    "mostra_matriz(\n",
    "    res[ i ] + [ res[ i ][ 0 ] @ res[ i ][ 1 ] ],\n",
    "    spacer = [ '', '=' ],\n",
    "    format_str = [ '%.2f', '%.f', '%.f' ],\n",
    "    thres = [ 1e-5, -1e-5, -1.0 ],\n",
    "    destaque_red = [ ( 0, k, j ) for j in range( 4 ) ],\n",
    "    destaque_blue = [ ( 1, j, l ) for j in range( 4 ) ],\n",
    "    destaque_green = [ ( 2, k, l ) ]\n",
    ")"
   ]
  },
  {
   "cell_type": "markdown",
   "metadata": {},
   "source": [
    "# Fatoração $A = LU$\n",
    "\n",
    "A fatoração $A = LU$ de uma matriz $A \\in \\mathbb R^{n \\times n}$ consiste em um par de matrizes $L \\in \\mathbb R^{n \\times n}$ e $U \\in \\mathbb R^{n \\times n}$ tais que:"
   ]
  },
  {
   "cell_type": "markdown",
   "metadata": {},
   "source": [
    "$$\\large\n",
    "A = LU\n",
    "$$\n",
    "\n",
    "e $L$ é triangular inferior com os elementos da diagonal iguais a $1$ e $U$ é triangular superior."
   ]
  },
  {
   "cell_type": "markdown",
   "metadata": {},
   "source": [
    "## Exemplo de aplicação:\n",
    "\n",
    "$$\\large\\def\\vect{\\boldsymbol}\n",
    "A\\vect x = \\vect b\n",
    "$$"
   ]
  },
  {
   "cell_type": "markdown",
   "metadata": {},
   "source": [
    "$$\\large\n",
    "LU\\vect x = \\vect b\n",
    "$$"
   ]
  },
  {
   "cell_type": "markdown",
   "metadata": {},
   "source": [
    "Podemos então resolver o sistema em duas etapas:\n",
    "$$\\large\n",
    "L\\vect y = \\vect b\n",
    "$$\n",
    "e depois\n",
    "$$\\large\n",
    "U\\vect x = \\vect y.\n",
    "$$\n"
   ]
  },
  {
   "cell_type": "code",
   "execution_count": 7,
   "metadata": {},
   "outputs": [
    {
     "data": {
      "text/latex": [
       "$$\\left(\\begin{array}{cccc}1.00&&&\\\\\\color{red}{1.00}&\\color{red}{1.00}&&\\\\&&1.00&\\\\&&&1.00\\end{array}\\right)\\left(\\begin{array}{cccc}1&1&\\color{blue}{1}&1\\\\0&1&\\color{blue}{2}&3\\\\1&3&\\color{blue}{4}&3\\\\1&1&\\color{blue}{0}&0\\end{array}\\right)=\\left(\\begin{array}{cccc}1&1&1&1\\\\1&2&\\color{green}{3}&4\\\\1&3&4&3\\\\1&1&0&0\\end{array}\\right)$$"
      ]
     },
     "metadata": {},
     "output_type": "display_data"
    }
   ],
   "source": [
    "mostra_matriz(\n",
    "    res[ i ] + [ res[ i ][ 0 ] @ res[ i ][ 1 ] ],\n",
    "    spacer = [ '', '=' ],\n",
    "    format_str = [ '%.2f', '%.f', '%.f' ],\n",
    "    thres = [ 1e-5, -1e-5, -1.0 ],\n",
    "    destaque_red = [ ( 0, k, j ) for j in range( 4 ) ],\n",
    "    destaque_blue = [ ( 1, j, l ) for j in range( 4 ) ],\n",
    "    destaque_green = [ ( 2, k, l ) ]\n",
    ")"
   ]
  },
  {
   "cell_type": "code",
   "execution_count": 8,
   "metadata": {},
   "outputs": [],
   "source": [
    "def LU( A ):\n",
    "    \n",
    "    n = A.shape[ 0 ]\n",
    "    \n",
    "    for i in range( n ):\n",
    "        alpha = A[ i + 1 : n, [ i ] ] / A[ i, i ]\n",
    "        A[ i + 1 : n, i : n ] = A[ i + 1 : n, i : n ] - alpha * A[ i, i : n ]\n",
    "        \n",
    "        A[ i + 1 : n, i ] = alpha.flatten()\n",
    "        \n",
    "def LU_separa( A ):\n",
    "    \n",
    "    U = np.triu( A )\n",
    "    L = np.eye( A.shape[ 0 ] )\n",
    "    L = L + np.tril( A, -1 )\n",
    "    \n",
    "    return ( L, U )"
   ]
  },
  {
   "cell_type": "code",
   "execution_count": 9,
   "metadata": {},
   "outputs": [],
   "source": [
    "A = np.array(\n",
    "    [\n",
    "        [ 1.0, 1.0, 1.0, 1.0 ],\n",
    "        [ 1.0, 2.0, 3.0, 4.0 ],\n",
    "        [ 1.0, 3.0, 4.0, 3.0 ],\n",
    "        [ 1.0, 1.0, 0.0, 0.0 ]\n",
    "    ]\n",
    ")\n",
    "\n",
    "LU( A )"
   ]
  },
  {
   "cell_type": "code",
   "execution_count": 10,
   "metadata": {},
   "outputs": [
    {
     "data": {
      "text/latex": [
       "$$\\left(\\begin{array}{cccc}+1.00&+1.00&+1.00&+1.00\\\\+1.00&+1.00&+2.00&+3.00\\\\+1.00&+2.00&-1.00&-4.00\\\\+1.00&&+1.00&+3.00\\end{array}\\right)$$"
      ]
     },
     "metadata": {},
     "output_type": "display_data"
    },
    {
     "data": {
      "text/latex": [
       "$$\\left(\\begin{array}{cccc}+1.00&&&\\\\+1.00&+1.00&&\\\\+1.00&+2.00&+1.00&\\\\+1.00&&+1.00&+1.00\\end{array}\\right)\\left(\\begin{array}{cccc}+1.00&+1.00&+1.00&+1.00\\\\&+1.00&+2.00&+3.00\\\\&&-1.00&-4.00\\\\&&&+3.00\\end{array}\\right)$$"
      ]
     },
     "metadata": {},
     "output_type": "display_data"
    }
   ],
   "source": [
    "mostra_matriz( [ A ] )\n",
    "mostra_matriz( LU_separa( A ) )"
   ]
  },
  {
   "cell_type": "code",
   "execution_count": 11,
   "metadata": {},
   "outputs": [],
   "source": [
    "def triu_solve( U, b ):\n",
    "    \n",
    "    n = U.shape[ 0 ]    \n",
    "    x = np.empty( ( b.shape[ 0 ], ) )\n",
    "    \n",
    "    for i in range( n - 1, -1, -1 ):\n",
    "        \n",
    "        x[ i ] = ( b[ i ] - np.sum( U[ i, i + 1 : n ] * x[ i + 1 : n ] ) ) / U[ i, i ]\n",
    "        \n",
    "    return x\n",
    "\n",
    "def tril_solve( L, b ):\n",
    "    \n",
    "    n = L.shape[ 0 ]    \n",
    "    x = np.empty( b.shape )\n",
    "    \n",
    "    for i in range( n ):\n",
    "        \n",
    "        x[ i ] = b[ i ] - np.sum( L[ i, : i ] * x[ : i ] )\n",
    "        \n",
    "    return x"
   ]
  },
  {
   "cell_type": "code",
   "execution_count": 12,
   "metadata": {},
   "outputs": [
    {
     "data": {
      "text/latex": [
       "$$\\left(\\begin{array}{cccc}-2.00&+6.00&-4.00&+1.00\\end{array}\\right)$$"
      ]
     },
     "metadata": {},
     "output_type": "display_data"
    }
   ],
   "source": [
    "b = np.array( [ 1.0, 2.0, 3.0, 4.0 ] )\n",
    "\n",
    "y = tril_solve( A, b )\n",
    "x = triu_solve( A, y )\n",
    "\n",
    "mostra_matriz( [ x.reshape( ( x.shape[ 0 ], 1 ) ).T ] )"
   ]
  },
  {
   "cell_type": "code",
   "execution_count": 13,
   "metadata": {},
   "outputs": [],
   "source": [
    "def inversa( A ):\n",
    "    \n",
    "    A_copy = A.copy()\n",
    "    LU( A_copy )\n",
    "    \n",
    "    n = A.shape[ 0 ]\n",
    "    \n",
    "    inv = np.empty( ( n, n ) )\n",
    "    \n",
    "    for j in range( n ):\n",
    "        \n",
    "        e = np.zeros( ( n, ) )\n",
    "        e[ j ] = 1.0\n",
    "        \n",
    "        y = tril_solve( A_copy, e )\n",
    "        inv[ :, j ] = triu_solve( A_copy, y )\n",
    "        \n",
    "    return inv"
   ]
  },
  {
   "cell_type": "code",
   "execution_count": 14,
   "metadata": {},
   "outputs": [],
   "source": [
    "A = np.array(\n",
    "    [\n",
    "        [ 1.0, 1.0, 1.0, 1.0 ],\n",
    "        [ 1.0, 2.0, 3.0, 4.0 ],\n",
    "        [ 1.0, 3.0, 4.0, 3.0 ],\n",
    "        [ 1.0, 1.0, 0.0, 0.0 ]\n",
    "    ]\n",
    ")"
   ]
  },
  {
   "cell_type": "code",
   "execution_count": 15,
   "metadata": {},
   "outputs": [
    {
     "name": "stdout",
     "output_type": "stream",
     "text": [
      "4.440892098500626e-16\n"
     ]
    }
   ],
   "source": [
    "A_inv = inversa( A )\n",
    "print( np.max( np.abs( A_inv @ A - np.eye( A.shape[ 0 ] ) ) ) )"
   ]
  },
  {
   "cell_type": "code",
   "execution_count": 16,
   "metadata": {},
   "outputs": [],
   "source": [
    "n = 400\n",
    "A = np.random.normal( size = ( n, n ) )"
   ]
  },
  {
   "cell_type": "code",
   "execution_count": 17,
   "metadata": {},
   "outputs": [
    {
     "name": "stdout",
     "output_type": "stream",
     "text": [
      "2.013847589492798\n",
      "4.795763786091811e-11\n"
     ]
    }
   ],
   "source": [
    "start = time.time()\n",
    "A_inv = inversa( A )\n",
    "print( time.time() - start )\n",
    "\n",
    "print( np.max( np.abs( A_inv @ A - np.eye( A.shape[ 0 ] ) ) ) )"
   ]
  },
  {
   "cell_type": "markdown",
   "metadata": {},
   "source": [
    "# Fatoração $PA=LU$"
   ]
  },
  {
   "cell_type": "markdown",
   "metadata": {},
   "source": [
    "A fatoração $PA = LU$ de uma matriz $A \\in \\mathbb R^{n \\times n}$ consiste em um trio de matrizes $P \\in \\mathbb R^{n \\times n}$, $L \\in \\mathbb R^{n \\times n}$ e $U \\in \\mathbb R^{n \\times n}$ tais que:"
   ]
  },
  {
   "cell_type": "markdown",
   "metadata": {},
   "source": [
    "$$\\large\n",
    "PA = LU\n",
    "$$\n",
    "\n",
    "e $L$ é triangular inferior com os elementos da diagonal iguais a $1$, $U$ é triangular superior e $P$ é uma matriz de permutação."
   ]
  },
  {
   "cell_type": "code",
   "execution_count": 18,
   "metadata": {},
   "outputs": [
    {
     "data": {
      "text/latex": [
       "$$\\left(\\begin{array}{cccc}+1.00&+1.00&+1.00&+1.00\\\\+1.00&+2.00&+3.00&+4.00\\\\+1.00&+3.00&+4.00&+3.00\\\\+1.00&+1.00&&\\end{array}\\right)$$"
      ]
     },
     "metadata": {},
     "output_type": "display_data"
    },
    {
     "data": {
      "text/latex": [
       "$$\\left(\\begin{array}{cccc}+1.00&+1.00&+1.00&+1.00\\\\+1.00&+3.00&+4.00&+3.00\\\\+1.00&+2.00&+3.00&+4.00\\\\+1.00&+1.00&&\\end{array}\\right)$$"
      ]
     },
     "metadata": {},
     "output_type": "display_data"
    }
   ],
   "source": [
    "A = np.array(\n",
    "    [\n",
    "        [ 1.0, 1.0, 1.0, 1.0 ],\n",
    "        [ 1.0, 2.0, 3.0, 4.0 ],\n",
    "        [ 1.0, 3.0, 4.0, 3.0 ],\n",
    "        [ 1.0, 1.0, 0.0, 0.0 ]\n",
    "    ]\n",
    ")\n",
    "P = np.array(\n",
    "    [\n",
    "        [ 1.0, 0.0, 0.0, 0.0 ],\n",
    "        [ 0.0, 0.0, 1.0, 0.0 ],\n",
    "        [ 0.0, 1.0, 0.0, 0.0 ],\n",
    "        [ 0.0, 0.0, 0.0, 1.0 ]\n",
    "    ]\n",
    ")\n",
    "\n",
    "mostra_matriz( [ A ] )\n",
    "mostra_matriz( [ P @ A ] )"
   ]
  },
  {
   "cell_type": "markdown",
   "metadata": {},
   "source": [
    "## Exemplo de aplicação:"
   ]
  },
  {
   "cell_type": "markdown",
   "metadata": {},
   "source": [
    "$$\\large\n",
    "A\\vect x = \\vect b\n",
    "$$"
   ]
  },
  {
   "cell_type": "markdown",
   "metadata": {},
   "source": [
    "$$\\large\n",
    "PA\\vect x = P\\vect b\n",
    "$$"
   ]
  },
  {
   "cell_type": "markdown",
   "metadata": {},
   "source": [
    "$$\\large\n",
    "LU\\vect x = P\\vect b\n",
    "$$"
   ]
  },
  {
   "cell_type": "markdown",
   "metadata": {},
   "source": [
    "Resolvemos primeiro:\n",
    "$$\\large\n",
    "L\\vect y = P\\vect b\n",
    "$$\n",
    "e depois\n",
    "$$\\large\n",
    "U\\vect x = \\vect y\n",
    "$$"
   ]
  },
  {
   "cell_type": "code",
   "execution_count": null,
   "metadata": {},
   "outputs": [],
   "source": []
  }
 ],
 "metadata": {
  "kernelspec": {
   "display_name": "Python 3",
   "language": "python",
   "name": "python3"
  },
  "language_info": {
   "codemirror_mode": {
    "name": "ipython",
    "version": 3
   },
   "file_extension": ".py",
   "mimetype": "text/x-python",
   "name": "python",
   "nbconvert_exporter": "python",
   "pygments_lexer": "ipython3",
   "version": "3.6.9"
  }
 },
 "nbformat": 4,
 "nbformat_minor": 2
}
