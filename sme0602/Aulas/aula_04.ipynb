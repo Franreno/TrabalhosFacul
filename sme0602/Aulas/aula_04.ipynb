{
 "cells": [
  {
   "cell_type": "markdown",
   "metadata": {},
   "source": [
    "# Eliminação Gaussiana"
   ]
  },
  {
   "cell_type": "markdown",
   "metadata": {},
   "source": [
    "## Sistemas de equações lineares\n",
    "\n",
    "Um sistema de equações lineares é uma coleção de equações da forma\n",
    "\\begin{equation}\\large\n",
    "  \\begin{matrix}\n",
    "    a_{1,1}x_1&+&a_{1,2}x_2&+&\\cdots&+&a_{1,n}x_n&=&b_1\\\\\n",
    "    a_{2,1}x_1&+&a_{2,2}x_2&+&\\cdots&+&a_{2,n}x_n&=&b_2\\\\\n",
    "              & &          & &      & &          &\\vdots&\n",
    "             \\\\\n",
    "    a_{n,1}x_1&+&a_{n,2}x_2&+&\\cdots&+&a_{n,n}x_n&=&b_n\n",
    "  \\end{matrix}\n",
    "\\end{equation}\n",
    "onde os termos $a_{ij}$ e $b_{j}$ com $i=1,\\dots,m$ e $j=1,\\dots,n$ são constates do problema."
   ]
  },
  {
   "cell_type": "markdown",
   "metadata": {},
   "source": [
    "Por solução entendemos um conjunto de números $x_{1},\\dots,x_{n}$ tal que todas as equações do sistema sejam satisfeitas."
   ]
  },
  {
   "cell_type": "markdown",
   "metadata": {},
   "source": [
    "$\\def\\vect{\\boldsymbol}$\n",
    "$\\def\\matriz{}$\n",
    "Podemos denotar o sistema de equações de forma mais compacta se utilizarmo-nos da álgebra usual de matrizes da seguinte forma:\n",
    "\\begin{equation}\\Large\n",
    "  \\matriz A\\vect x=\\vect b\\text.\\label{eq:linsismatform}\n",
    "\\end{equation}"
   ]
  },
  {
   "cell_type": "markdown",
   "metadata": {},
   "source": [
    "\\begin{equation*}\\Large\n",
    "   \\matriz A=[a_{ij}]=\n",
    "   \\begin{bmatrix}\n",
    "         a_{1,1}&a_{1,2}&\\cdots&a_{1,n}\\\\\n",
    "         a_{2,1}&a_{2,2}&\\cdots&a_{2,n}\\\\\n",
    "         \\vdots&\\vdots&\\ddots&\\vdots\\\\\n",
    "         a_{n,1}&a_{n,2}&\\cdots&a_{n,n}\n",
    "   \\end{bmatrix},\\quad\n",
    "   \\vect x=\\begin{bmatrix}\n",
    "      x_1\\\\\n",
    "      x_2\\\\\n",
    "      \\vdots\\\\\n",
    "      x_n\n",
    "   \\end{bmatrix}\n",
    "   \\quad\\text e\\quad\n",
    "   \\vect b=\\begin{bmatrix}\n",
    "      b_1\\\\\n",
    "      b_2\\\\\n",
    "      \\vdots\\\\\n",
    "      b_n\n",
    "   \\end{bmatrix}\\text.\n",
    "\\end{equation*}"
   ]
  },
  {
   "cell_type": "markdown",
   "metadata": {},
   "source": [
    "# Resolução de sistemas triangulares"
   ]
  },
  {
   "cell_type": "markdown",
   "metadata": {},
   "source": [
    "Uma matriz $\\matriz U\\in\\mathbb R^{n\\times n}$ é dita triangular superior quando é da forma\n",
    "\\begin{equation*}\\Large\n",
    "\\matriz U=\n",
    "  \\begin{bmatrix}\n",
    "    u_{1,1}&u_{1,2}&u_{1,3}&\\cdots&u_{1,n}\\\\\n",
    "           &u_{2,2}&u_{2,3}&\\cdots&u_{2,n}\\\\\n",
    "           &       &u_{3,3}&\\cdots&u_{3,n}\\\\\n",
    "           &       &       &\\ddots&\\vdots\\\\\n",
    "           &       &       &      &u_{n,n}\n",
    "  \\end{bmatrix}\\text.\n",
    "\\end{equation*}"
   ]
  },
  {
   "cell_type": "markdown",
   "metadata": {},
   "source": [
    "# Exercício\n",
    "\n",
    "Prove que o determinante $\\det( U )$ de uma matriz triangular superior $U$ é $\\prod_{i = n}u_{i, i}$."
   ]
  },
  {
   "cell_type": "markdown",
   "metadata": {},
   "source": [
    "## Matriz triangular superior (definição)\n",
    "\n",
    "Uma matriz $\\mathbb R^{n\\times n}\\ni\\matriz U=[u_{i,j}]$ é ***triangular superior*** quando $j<i\\Rightarrow u_{i,j}=0$. Se um sistema linear tem uma matriz associada triangular superior, tal sistema também e dito triangular superior.\n",
    "\n",
    "   De forma semelhante, um sistema é ***triangular inferior*** quando sua matriz $\\mathbb R^{m\\times n}\\ni\\matriz L=[l_{i,j}]$ for triangular inferior, ou seja, se $j>i$ implicar em $l_{i,j}=0$."
   ]
  },
  {
   "cell_type": "markdown",
   "metadata": {},
   "source": [
    "## Resolvendo sistemas triangulares"
   ]
  },
  {
   "cell_type": "markdown",
   "metadata": {},
   "source": [
    "Cada uma das equações do sistema $U\\vect x= \\vect b$ é da forma\n",
    "$$\\Large\n",
    "\\sum_{j = 1}^nu_{i, j}x_j = b_i.\n",
    "$$"
   ]
  },
  {
   "cell_type": "markdown",
   "metadata": {},
   "source": [
    "Se supusermos que $U$ é triangular superior, então temos\n",
    "$$\\Large\n",
    "\\sum_{j = i}^n u_{i, j}x_j = b_i.\n",
    "$$"
   ]
  },
  {
   "cell_type": "markdown",
   "metadata": {},
   "source": [
    "$$\\Large\n",
    "u_{i, 1}x_1 + u_{i, 2}x_2 + u_{i, 3}x_3 + \\cdots + u_{i, i - 1}x_{i - 1} + u_{i, i}x_i + \\cdots + u_{i, n}x_n = b_i\n",
    "$$\n",
    "$$\\Large\n",
    "0x_1 + 0x_2 + 0x_3 + \\cdots + 0x_{i - 1} + u_{i, i}x_i + \\cdots + u_{i, n}x_n = b_i\n",
    "$$"
   ]
  },
  {
   "cell_type": "markdown",
   "metadata": {},
   "source": [
    "$$\\Large\n",
    "    \\begin{split}\n",
    "    u_{i, i}x_i & {} + \\sum_{j = i + 1}^n u_{i, j}x_j = b_i\\\\\n",
    "    u_{i, i}x_i & {}= b_i - \\sum_{j = i + 1}^n u_{i, j}x_j\\\\\n",
    "    x_i & {}= \\frac{b_i - \\sum_{j = i + 1}^n u_{i, j}x_j}{u_{i, i}}\n",
    "    \\end{split}\n",
    "$$"
   ]
  },
  {
   "cell_type": "markdown",
   "metadata": {},
   "source": [
    "1. Para $i \\in \\{ n, n - 1, n - 2, \\dots, 1 \\}$:\n",
    "    $$\\Large\n",
    "            x_i \\leftarrow \\frac{b_i - \\sum_{j = i + 1}^n u_{i, j}x_j}{u_{i, i}}\n",
    "$$"
   ]
  },
  {
   "cell_type": "code",
   "execution_count": 1,
   "metadata": {},
   "outputs": [],
   "source": [
    "import numpy as np\n",
    "import time"
   ]
  },
  {
   "cell_type": "code",
   "execution_count": 2,
   "metadata": {},
   "outputs": [],
   "source": [
    "def triu_solve( U, b ):\n",
    "    \n",
    "    n = U.shape[ 0 ]\n",
    "    \n",
    "    x = np.empty( b.shape )\n",
    "    for i in range( n - 1, -1, -1 ):\n",
    "        \n",
    "        s = 0.0\n",
    "        for j in range( i + 1, n ):\n",
    "            s = s + U[ i, j ] * x[ j ]\n",
    "            \n",
    "        x[ i ] = ( b[ i ] - s ) / U[ i, i ]\n",
    "        \n",
    "    return x"
   ]
  },
  {
   "cell_type": "code",
   "execution_count": 3,
   "metadata": {},
   "outputs": [],
   "source": [
    "U = np.array(\n",
    "    [\n",
    "        [ 1.0, 1.0,  1.0,  1.0 ],\n",
    "        [ 0.0, 1.0,  2.0,  3.0 ],\n",
    "        [ 0.0, 0.0, -1.0, -4.0 ],\n",
    "        [ 0.0, 0.0,  0.0,  3.0 ]\n",
    "    ]\n",
    ")\n",
    "b = np.array( [ 1.0, 1.0, 0.0, 3.0 ] )"
   ]
  },
  {
   "cell_type": "code",
   "execution_count": 4,
   "metadata": {},
   "outputs": [],
   "source": [
    "x = triu_solve( U, b )"
   ]
  },
  {
   "cell_type": "code",
   "execution_count": 5,
   "metadata": {},
   "outputs": [
    {
     "name": "stdout",
     "output_type": "stream",
     "text": [
      "[-2.  6. -4.  1.]\n",
      "[0. 0. 0. 0.]\n"
     ]
    }
   ],
   "source": [
    "print( x )\n",
    "print( U @ x - b )"
   ]
  },
  {
   "cell_type": "code",
   "execution_count": 6,
   "metadata": {},
   "outputs": [
    {
     "name": "stdout",
     "output_type": "stream",
     "text": [
      "22.306254863739014\n"
     ]
    }
   ],
   "source": [
    "n = 10000\n",
    "\n",
    "# Gera matriz aleatória:\n",
    "U = np.triu( np.abs( np.random.normal( size = ( n, n ) ) ) + 10 * np.eye( n ) )\n",
    "b = np.random.normal( size = ( n, ) )\n",
    "\n",
    "start = time.time()\n",
    "x = triu_solve( U, b )\n",
    "print( time.time() - start )"
   ]
  },
  {
   "cell_type": "code",
   "execution_count": 7,
   "metadata": {},
   "outputs": [
    {
     "name": "stdout",
     "output_type": "stream",
     "text": [
      "2.0250005278166228e-07\n"
     ]
    }
   ],
   "source": [
    "print( np.max( np.abs( U @ x - b ) ) )"
   ]
  },
  {
   "cell_type": "code",
   "execution_count": 8,
   "metadata": {},
   "outputs": [],
   "source": [
    "def triu_solve_vec( U, b ):\n",
    "    \n",
    "    n = U.shape[ 0 ]    \n",
    "    x = np.empty( ( b.shape[ 0 ], ) )\n",
    "    \n",
    "    for i in range( n - 1, -1, -1 ):\n",
    "        \n",
    "        x[ i ] = ( b[ i ] - np.sum( U[ i, i + 1 : n ] * x[ i + 1 : n ] ) ) / U[ i, i ]\n",
    "        \n",
    "    return x"
   ]
  },
  {
   "cell_type": "code",
   "execution_count": 9,
   "metadata": {},
   "outputs": [
    {
     "name": "stdout",
     "output_type": "stream",
     "text": [
      "0.13132572174072266\n"
     ]
    }
   ],
   "source": [
    "start = time.time()\n",
    "x_vec = triu_solve_vec( U, b )\n",
    "print( time.time() - start )"
   ]
  },
  {
   "cell_type": "code",
   "execution_count": 10,
   "metadata": {},
   "outputs": [
    {
     "name": "stdout",
     "output_type": "stream",
     "text": [
      "5.3240696129552845e-08\n"
     ]
    }
   ],
   "source": [
    "print( np.max( np.abs( U @ x_vec - b ) ) )"
   ]
  },
  {
   "cell_type": "code",
   "execution_count": null,
   "metadata": {},
   "outputs": [],
   "source": []
  }
 ],
 "metadata": {
  "kernelspec": {
   "display_name": "Python 3",
   "language": "python",
   "name": "python3"
  },
  "language_info": {
   "codemirror_mode": {
    "name": "ipython",
    "version": 3
   },
   "file_extension": ".py",
   "mimetype": "text/x-python",
   "name": "python",
   "nbconvert_exporter": "python",
   "pygments_lexer": "ipython3",
   "version": "3.6.9"
  }
 },
 "nbformat": 4,
 "nbformat_minor": 2
}
