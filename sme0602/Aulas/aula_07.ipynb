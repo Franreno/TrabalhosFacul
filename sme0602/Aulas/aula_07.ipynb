{
 "cells": [
  {
   "cell_type": "code",
   "execution_count": 1,
   "metadata": {},
   "outputs": [],
   "source": [
    "import numpy as np\n",
    "import time\n",
    "\n",
    "def triu_solve( U, b ):\n",
    "    \n",
    "    n = U.shape[ 0 ]    \n",
    "    x = np.empty( ( b.shape[ 0 ], ) )\n",
    "    \n",
    "    for i in range( n - 1, -1, -1 ):\n",
    "        \n",
    "        x[ i ] = ( b[ i ] - np.sum( U[ i, i + 1 : n ] * x[ i + 1 : n ] ) ) / U[ i, i ]\n",
    "        \n",
    "    return x\n",
    "\n",
    "def elimina( A, b ):\n",
    "    \n",
    "    n = A.shape[ 0 ]\n",
    "    \n",
    "    for i in range( n ):\n",
    "        alpha = A[ i + 1 : n, [ i ] ] / A[ i, i ]\n",
    "\n",
    "        A[ i + 1 : n, i : n ] = A[ i + 1 : n, i : n ] - alpha * A[ i, i : n ]\n",
    "\n",
    "        b[ i + 1 : n ] = b[ i + 1 : n ] - np.squeeze( alpha ) * b[ i ]\n",
    "            \n",
    "def lin_solve( A, b ):\n",
    "    \n",
    "    A_copy = A.copy()\n",
    "    b_copy = b.copy()\n",
    "    \n",
    "    elimina( A_copy, b_copy )\n",
    "    \n",
    "    return triu_solve( A_copy, b_copy )"
   ]
  },
  {
   "cell_type": "code",
   "execution_count": 2,
   "metadata": {},
   "outputs": [],
   "source": [
    "def elimina_pp( A, b ):\n",
    "    \n",
    "    n = A.shape[ 0 ]\n",
    "    \n",
    "    for i in range( n ):\n",
    "\n",
    "        I = np.argmax( np.abs( A[ i :, i ] ) ) + i\n",
    "    \n",
    "        tmp = A[ i, : ].copy()\n",
    "        A[ i, : ] = A[ I, : ]\n",
    "        A[ I, : ] = tmp\n",
    "\n",
    "        tmp = b[ i ].copy()\n",
    "        b[ i ] = b[ I ]\n",
    "        b[ I ] = tmp\n",
    "\n",
    "        alpha = A[ i + 1 : n, [ i ] ] / A[ i, i ]\n",
    "\n",
    "        A[ i + 1 : n, i : n ] = A[ i + 1 : n, i : n ] - alpha * A[ i, i : n ]\n",
    "\n",
    "        b[ i + 1 : n ] = b[ i + 1 : n ] - np.squeeze( alpha ) * b[ i ]\n",
    "        \n",
    "def lin_solve_pp( A, b ):\n",
    "    \n",
    "    A_copy = A.copy()\n",
    "    b_copy = b.copy()\n",
    "    \n",
    "    elimina_pp( A_copy, b_copy )\n",
    "    \n",
    "    return triu_solve( A_copy, b_copy )"
   ]
  },
  {
   "cell_type": "code",
   "execution_count": 3,
   "metadata": {},
   "outputs": [],
   "source": [
    "n = 500\n",
    "A = np.random.normal( size = ( n, n ) )\n",
    "b = np.random.normal( size = ( n, ) )\n",
    "\n",
    "# np.linalg.cond( A )"
   ]
  },
  {
   "cell_type": "code",
   "execution_count": 4,
   "metadata": {},
   "outputs": [
    {
     "name": "stdout",
     "output_type": "stream",
     "text": [
      "0.09989619255065918\n",
      "3.194343678458722e-10\n"
     ]
    }
   ],
   "source": [
    "start = time.time()\n",
    "x = lin_solve( A, b )\n",
    "print( time.time() - start )\n",
    "\n",
    "print( np.max( np.abs( A @ x - b ) ) )"
   ]
  },
  {
   "cell_type": "code",
   "execution_count": 5,
   "metadata": {},
   "outputs": [
    {
     "name": "stdout",
     "output_type": "stream",
     "text": [
      "0.11841225624084473\n",
      "6.090683513093609e-13\n"
     ]
    }
   ],
   "source": [
    "start = time.time()\n",
    "x_pp = lin_solve_pp( A, b )\n",
    "print( time.time() - start )\n",
    "\n",
    "print( np.max( np.abs( A @ x_pp - b ) ) )"
   ]
  },
  {
   "cell_type": "code",
   "execution_count": 6,
   "metadata": {},
   "outputs": [
    {
     "name": "stdout",
     "output_type": "stream",
     "text": [
      "524.463908129785\n"
     ]
    }
   ],
   "source": [
    "print( np.max( np.abs( A @ x - b ) ) / np.max( np.abs( A @ x_pp - b ) ) )"
   ]
  },
  {
   "cell_type": "code",
   "execution_count": 7,
   "metadata": {},
   "outputs": [
    {
     "name": "stdout",
     "output_type": "stream",
     "text": [
      "[[1. 1. 1. 1. 1.]\n",
      " [2. 2. 2. 2. 2.]\n",
      " [1. 1. 1. 1. 1.]\n",
      " [1. 1. 1. 1. 1.]\n",
      " [1. 1. 1. 1. 1.]]\n",
      "[2. 2. 2. 2. 2.]\n"
     ]
    }
   ],
   "source": [
    "B = np.ones( ( 5, 5 ) )\n",
    "tmp = B[ 1, : ]\n",
    "tmp[ : ] = 2\n",
    "\n",
    "print( B )\n",
    "print( tmp )"
   ]
  },
  {
   "cell_type": "code",
   "execution_count": 8,
   "metadata": {},
   "outputs": [
    {
     "name": "stdout",
     "output_type": "stream",
     "text": [
      "[5, 2, 3]\n",
      "[5, 6, 3]\n"
     ]
    }
   ],
   "source": [
    "l1 = [ 1, 2, 3 ]\n",
    "l2 = [ 'a', 'b', 'c' ]\n",
    "l3 = [ l1, l2 ]\n",
    "\n",
    "l3[ 0 ][ 0 ] = 5\n",
    "\n",
    "print( l1 )\n",
    "\n",
    "l4 = l1\n",
    "l4[ 1 ] = 6\n",
    "\n",
    "print( l1 )"
   ]
  },
  {
   "cell_type": "code",
   "execution_count": null,
   "metadata": {},
   "outputs": [],
   "source": []
  }
 ],
 "metadata": {
  "kernelspec": {
   "display_name": "Python 3",
   "language": "python",
   "name": "python3"
  },
  "language_info": {
   "codemirror_mode": {
    "name": "ipython",
    "version": 3
   },
   "file_extension": ".py",
   "mimetype": "text/x-python",
   "name": "python",
   "nbconvert_exporter": "python",
   "pygments_lexer": "ipython3",
   "version": "3.6.9"
  }
 },
 "nbformat": 4,
 "nbformat_minor": 2
}
