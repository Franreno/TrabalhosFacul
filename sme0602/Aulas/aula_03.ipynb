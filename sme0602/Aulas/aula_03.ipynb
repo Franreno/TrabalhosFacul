{
 "cells": [
  {
   "cell_type": "code",
   "execution_count": 1,
   "metadata": {},
   "outputs": [],
   "source": [
    "import numpy as np\n",
    "import matplotlib.pyplot as pp"
   ]
  },
  {
   "cell_type": "markdown",
   "metadata": {},
   "source": [
    "# Função auxiliar\n",
    "\n",
    "A função abaixo constrói gráficos ilustrativos do método da secante. Você pode ler o código para tentar aprender alguns comandos de criação de gráficos do Python, mas não precisa estudar como parte da disciplina."
   ]
  },
  {
   "cell_type": "code",
   "execution_count": 2,
   "metadata": {},
   "outputs": [],
   "source": [
    "def ilustra_secante( f, x, interval = None, delta = 2, npoints = 100, root = None, k = 0 ):\n",
    "    \n",
    "    c = ( x[ 0 ] + x[ 1 ] ) / 2\n",
    "    if interval is None:\n",
    "        interval = ( c - delta / 2, c + delta / 2 )\n",
    "        \n",
    "    ( a, b ) = interval\n",
    "        \n",
    "    X = np.linspace( a, b, npoints )\n",
    "    Y = f( X )\n",
    "    \n",
    "    # Eixo x:\n",
    "    pp.plot( [ X.min(), X.max() ], [ 0, 0 ], 'k' )\n",
    "    # Função\n",
    "    try:\n",
    "        pp.plot( X, Y, color = pp.gca().lines[ 1 ].get_color() )\n",
    "    except:\n",
    "        pp.plot( X, Y )\n",
    "    \n",
    "    # Raiz:\n",
    "    if not root is None:\n",
    "        pp.scatter( root, f( root ), color = pp.gca().lines[ 1 ].get_color(), zorder = 10 )\n",
    "\n",
    "    # Pontos atuais\n",
    "    pp.scatter( x[ 0 ], f( x[ 0 ] ), color = pp.gca().lines[ 1 ].get_color(), zorder = 10 )\n",
    "    pp.annotate(\n",
    "        \"$x_{%d}$\" % ( k, ),\n",
    "        ( x[ 0 ], 0 ),\n",
    "        textcoords = \"offset points\",\n",
    "        xytext = ( -4, -15 )\n",
    "    )\n",
    "    pp.scatter( x[ 1 ], f( x[ 1 ] ), color = pp.gca().lines[ 1 ].get_color(), zorder = 10 )\n",
    "    pp.annotate(\n",
    "        \"$x_{%d}$\" % ( k + 1, ),\n",
    "        ( x[ 1 ], 0 ),\n",
    "        textcoords = \"offset points\",\n",
    "        xytext = ( -4, -15 )\n",
    "    )\n",
    "    pp.scatter( x[ 0 ], 0, color = 'k', zorder = 10 )\n",
    "    pp.scatter( x[ 1 ], 0, color = 'k', zorder = 10 )\n",
    "    pp.plot( [ x[ 0 ], x[ 0 ] ], [ 0, f( x[ 0 ] ) ], 'k:' )\n",
    "    pp.plot( [ x[ 1 ], x[ 1 ] ], [ 0, f( x[ 1 ] ) ], 'k:' )\n",
    "    \n",
    "    # Reta secante:\n",
    "    slope = ( f( x[ 0 ] ) - f( x[ 1 ] ) ) / ( x[ 0 ] - x[ 1 ] )\n",
    "    pp.plot( X, ( X - x[ 0 ] ) * slope + f( x[ 0 ] ) )\n",
    "   \n",
    "    # Próxima iteração\n",
    "    x_next = x[ 1 ] - f( x[ 1 ] ) / slope\n",
    "    pp.scatter( x_next, 0, color = pp.gca().lines[ -1 ].get_color(), zorder = 10 )\n",
    "    pp.annotate(\n",
    "        \"$x_{%d}$\" % ( k + 2, ),\n",
    "        ( x_next, 0 ),\n",
    "        textcoords = \"offset points\",\n",
    "        xytext = ( -4, -15 )\n",
    "    )\n",
    "\n",
    "    # Configuração dos eixos:\n",
    "    pp.axis( 'equal' )\n",
    "    \n",
    "    tmp = ( Y.max() - Y.min() ) * 0.05\n",
    "    pp.axis( ( X.min(), X.max(), Y.min() - tmp, Y.max() + tmp ) )\n",
    "    \n",
    "    return ( x[ 1 ], x_next )\n",
    "\n",
    "pp.rc( 'text', usetex = True )\n",
    "pp.rc( 'font', size = 20, family = 'serif' )\n",
    "# points = ilustra_secante( np.sin, ( 0.8, 0.6 ), interval = ( -0.5, 1.5 ), root = 0 )\n",
    "# pp.figure()\n",
    "# points = ilustra_secante( np.sin, points, interval = ( -0.5, 1.5 ), root = 0, k = 1 )\n",
    "# ilustra_secante( np.sin, ( 0.8, 0.7 ), interval = ( 0.85, 0.65 ), root = 0 )\n",
    "# pp.show()"
   ]
  },
  {
   "cell_type": "markdown",
   "metadata": {},
   "source": [
    "# Método da Secante\n",
    "\n",
    "Assim como o método de Newton, o método da secante tenta resolver o problema\n",
    "$$\\large\n",
    "f( x^* ) = 0\n",
    "$$\n",
    "substituindo a função $f$ por uma aproximação linear para ela.\n",
    "\n",
    "Dadas duas aproximação iniciaisl $x_{k - 1}$ e $x_{k}$, atualizaremos a aproximação para $x_{k + 1}$ calculando o ponto onde reta determinada pelos pontos $\\bigl( x_k, f( x_k ) \\bigr)$ e $\\bigl( x_{k - 1}, f( x_{k - 1} ) \\bigr)$ cruza o eixo horizontal."
   ]
  },
  {
   "cell_type": "code",
   "execution_count": 3,
   "metadata": {},
   "outputs": [
    {
     "data": {
      "image/png": "[encoded data removed]",
      "text/plain": [
       "<Figure size 504x504 with 1 Axes>"
      ]
     },
     "metadata": {},
     "output_type": "display_data"
    }
   ],
   "source": [
    "pp.rc( 'text', usetex = True )\n",
    "pp.rc( 'font', size = 20, family = 'serif' )\n",
    "\n",
    "pp.figure( figsize = ( 7, 7 ) )\n",
    "points = ilustra_secante( np.sin, ( 0.8, 0.7 ), interval = ( -0.5, 1.5 ), root = 0 )\n",
    "#points = ilustra_secante( np.sin, points, interval = ( -0.5, 1.5 ), root = 0, k = 1 )\n",
    "#ilustra_secante( np.sin, ( 0.8, 0.7 ), interval = ( 0.65, 0.85 ), root = 0 )\n",
    "pp.show()"
   ]
  },
  {
   "cell_type": "markdown",
   "metadata": {},
   "source": [
    "Observando a figura, vemos que\n",
    "\n",
    "$$\\large\n",
    "( x_{k} - x_{k + 1} )\\tan\\alpha = f( x_{k} ).\n",
    "$$\n",
    "Manipulando obtemos"
   ]
  },
  {
   "cell_type": "markdown",
   "metadata": {},
   "source": [
    "$$\\large\n",
    "x_k - x_{k + 1} = \\frac{f( x_k )}{\\tan\\alpha}\n",
    "$$"
   ]
  },
  {
   "cell_type": "markdown",
   "metadata": {},
   "source": [
    "Mas\n",
    "$$\\large\n",
    "\\tan\\alpha = \\frac{ f( x_{k} ) - f( x_{k - 1} ) }{x_{k} - x_{k - 1}},\n",
    "$$\n",
    "logo"
   ]
  },
  {
   "cell_type": "markdown",
   "metadata": {},
   "source": [
    "$$\\large\n",
    "x_{k + 1} = x_k - f( x_k )\\frac{x_{k} - x_{k - 1}}{f( x_{k} ) - f( x_{k - 1} )}\n",
    "$$"
   ]
  },
  {
   "cell_type": "markdown",
   "metadata": {},
   "source": [
    "## Observações\n",
    "\n",
    "1. O método da secante não requer derivadas, ao invés disso ele utiliza uma aproximação da forma\n",
    "$$\\large\n",
    "f'( x_k ) \\approx \\frac{ f( x_{k} ) - f( x_{k - 1} ) }{x_{k} - x_{k - 1}}\n",
    "$$\n",
    "2. O método da secante requer dois pontos para sua inicialização\n",
    "3. Apenas uma avaliação de função é necessária a cada iteração"
   ]
  },
  {
   "cell_type": "markdown",
   "metadata": {},
   "source": [
    "# Convergência do Método da Secante\n",
    "\n",
    "**Teorema** Seja $f : \\mathbb R \\to \\mathbb R$ duas vezes continuamente diferenciável. Suponha que $f( x^* ) = 0$, $f'( x^* ) \\neq 0$ e que $x_0$ e $x_1$ estejam suficientemente próximos de $x^*$. Então a sequência $\\{ x_k \\}$ gerada pelo Método de Newton satisfaz\n",
    "\n",
    "$$\\large\n",
    "\\lim_{k \\to \\infty}x_k = x^*\n",
    "$$\n",
    "e\n",
    "$$\\large\n",
    "\\lim_{k \\to \\infty} \\frac{| x_{k + 1} - x^* |}{| x_k - x^* |^{\\frac{1 + \\sqrt{5}}{2}}} = \\left|\\frac{f''( x^* )}{2f'( x^* )}\\right|^{\\frac{\\sqrt{5} - 1}{2}}.\n",
    "$$"
   ]
  },
  {
   "cell_type": "code",
   "execution_count": 4,
   "metadata": {},
   "outputs": [
    {
     "name": "stdout",
     "output_type": "stream",
     "text": [
      "1.618033988749895\n"
     ]
    }
   ],
   "source": [
    "print( (1 + 5 ** 0.5 ) / 2 )"
   ]
  },
  {
   "cell_type": "code",
   "execution_count": 5,
   "metadata": {},
   "outputs": [],
   "source": [
    "def secante( f, x, tol = 1e-10, return_niter = False ):\n",
    "    \n",
    "    niter = 0\n",
    "    \n",
    "    ( x_0, x_1 ) = x\n",
    "    \n",
    "    f_x_0 = f( x_0 )\n",
    "    f_x_1 = f( x_1 )\n",
    "    \n",
    "    stop_iter = False\n",
    "    \n",
    "    while not stop_iter:\n",
    "        \n",
    "        niter = niter + 1\n",
    "\n",
    "        x_next = x_1 - f_x_1 * ( x_1 - x_0 ) / ( f_x_1 - f_x_0 )\n",
    "    \n",
    "        f_x_0 = f_x_1\n",
    "        x_0 = x_1\n",
    "\n",
    "        f_x_1 = f( x_next )\n",
    "        x_1 = x_next\n",
    "\n",
    "        stop_iter = ( abs( x_1 - x_0 ) <= tol )        \n",
    "        \n",
    "    if return_niter:\n",
    "        return ( x_1, niter )\n",
    "    else:\n",
    "        return x_1"
   ]
  },
  {
   "cell_type": "code",
   "execution_count": 6,
   "metadata": {},
   "outputs": [],
   "source": [
    "L = 2\n",
    "r = 0.25\n",
    "\n",
    "V = 0.1\n",
    "\n",
    "def F( h ):\n",
    "    res = ( r ** 2 ) * np.arcsin( ( h - r ) / r )\n",
    "    res += r * ( h - r ) * np.sqrt( 1 - ( ( h - r ) / r ) ** 2 )\n",
    "    \n",
    "    return res\n",
    "\n",
    "def f_cocho( h ):\n",
    "    \n",
    "    return L * ( F( h ) - F( 0 ) ) - V\n",
    "\n",
    "def df_cocho( h ):\n",
    "    \n",
    "    return 2 * L * np.sqrt( r ** 2 - ( h - r ) ** 2 )"
   ]
  },
  {
   "cell_type": "code",
   "execution_count": 7,
   "metadata": {},
   "outputs": [
    {
     "name": "stdout",
     "output_type": "stream",
     "text": [
      "0.1509982981816477 6\n"
     ]
    }
   ],
   "source": [
    "( h_secante, niter_secante ) = secante( f_cocho,( 0.1, 0.11 ), tol = 1e-14, return_niter = True )\n",
    "print( h_secante, niter_secante )"
   ]
  },
  {
   "cell_type": "code",
   "execution_count": 8,
   "metadata": {},
   "outputs": [],
   "source": [
    "def newton( f, df, x, tol = 1e-10, return_niter = False ):\n",
    "    \n",
    "    niter = 1\n",
    "    \n",
    "    x_pre = x\n",
    "    x = x - f( x ) / df( x )\n",
    "    \n",
    "    while abs( x - x_pre ) > tol:\n",
    "        \n",
    "        x_pre = x\n",
    "        x = x - f( x ) / df( x )\n",
    "        \n",
    "        niter = niter + 1\n",
    "        \n",
    "    if return_niter:\n",
    "        return ( x, niter )\n",
    "    else:\n",
    "        return x"
   ]
  },
  {
   "cell_type": "code",
   "execution_count": 9,
   "metadata": {},
   "outputs": [
    {
     "name": "stdout",
     "output_type": "stream",
     "text": [
      "0.1509982981816477 10\n"
     ]
    }
   ],
   "source": [
    "( h_newton, niter_newton ) = newton( f_cocho, df_cocho, 0.1, tol = 1e-14, return_niter = True )\n",
    "print( h_newton, 2 * niter_newton )"
   ]
  },
  {
   "cell_type": "markdown",
   "metadata": {},
   "source": [
    "# Brincando com as hipóteses\n",
    "\n",
    "Como o Método de Newton se comporta se alguma das hipóteses do teorema de convergência não for satisfeita. Ou seja, se:\n",
    "\n",
    "1. Não existir uma raiz $x^*$ tal que $f( x^* ) = 0$\n",
    "2. $f'( x^* ) = 0$\n",
    "3. $x_0$ está distante de $x^*$"
   ]
  },
  {
   "cell_type": "code",
   "execution_count": 10,
   "metadata": {},
   "outputs": [
    {
     "name": "stdout",
     "output_type": "stream",
     "text": [
      "-745.8612480821154 1076\n"
     ]
    },
    {
     "data": {
      "text/plain": [
       "0.0"
      ]
     },
     "execution_count": 10,
     "metadata": {},
     "output_type": "execute_result"
    }
   ],
   "source": [
    "# Exemplo: tentando encontrar uma raiz que não existe\n",
    "\n",
    "( x, niter ) = secante( np.exp, ( 0, 0.01 ), return_niter = True )\n",
    "print( x, niter )\n",
    "np.exp( x )"
   ]
  },
  {
   "cell_type": "markdown",
   "metadata": {},
   "source": [
    "$$\\large\n",
    "e = \\lim_{h \\to \\infty}\\left( 1 + \\frac1h \\right)^h\n",
    "$$"
   ]
  },
  {
   "cell_type": "code",
   "execution_count": 11,
   "metadata": {},
   "outputs": [
    {
     "name": "stdout",
     "output_type": "stream",
     "text": [
      "-9.823419411247869e-09 32\n"
     ]
    }
   ],
   "source": [
    "def f( x ):\n",
    "    \n",
    "    return np.cos( x ) + 1.0\n",
    "\n",
    "def df( x ):\n",
    "    \n",
    "    return -np.sin( x )\n",
    "\n",
    "# Exemplo: tentando encontrar uma raiz múltipla ( f'( x^* ) = 0 )\n",
    "\n",
    "( x, niter ) = secante( f, ( 3.1, 3.11 ), return_niter = True )\n",
    "print( x - np.pi, niter )"
   ]
  },
  {
   "cell_type": "code",
   "execution_count": 12,
   "metadata": {},
   "outputs": [
    {
     "data": {
      "text/plain": [
       "(0.0, 5.0, -0.25, 0.25)"
      ]
     },
     "execution_count": 12,
     "metadata": {},
     "output_type": "execute_result"
    },
    {
     "data": {
      "image/png": "[encoded data removed]",
      "text/plain": [
       "<Figure size 432x288 with 1 Axes>"
      ]
     },
     "metadata": {},
     "output_type": "display_data"
    }
   ],
   "source": [
    "x = np.linspace( 0, 5, 100 )\n",
    "def f( x ):\n",
    "    \n",
    "    return np.exp( -x ) - 20 * np.exp( -3 * x ** 2 )\n",
    "\n",
    "def df( x ):\n",
    "    \n",
    "    return -np.exp( -x ) + 120 * x * np.exp( -3 * x ** 2 )\n",
    "\n",
    "pp.plot( x, f( x ) )\n",
    "#pp.plot( x, df( x ) )\n",
    "pp.axis( ( x.min(), x.max(), -0.25, 0.25 ) )"
   ]
  },
  {
   "cell_type": "code",
   "execution_count": 13,
   "metadata": {},
   "outputs": [
    {
     "name": "stdout",
     "output_type": "stream",
     "text": [
      "1.1797585688629948 8\n"
     ]
    }
   ],
   "source": [
    "# Começando \"bem\"\n",
    "\n",
    "( x, niter ) = secante( f, ( 1.0, 1.01 ), return_niter = True )\n",
    "print( x, niter )"
   ]
  },
  {
   "cell_type": "code",
   "execution_count": 14,
   "metadata": {},
   "outputs": [
    {
     "name": "stdout",
     "output_type": "stream",
     "text": [
      "745.8841702200997 1061\n"
     ]
    }
   ],
   "source": [
    "# Começando \"mal\"\n",
    "\n",
    "( x, niter ) = secante( f, ( 1.5, 1.51 ), return_niter = True )\n",
    "print( x, niter )"
   ]
  },
  {
   "cell_type": "code",
   "execution_count": 15,
   "metadata": {},
   "outputs": [
    {
     "name": "stdout",
     "output_type": "stream",
     "text": [
      "0.0 4\n"
     ]
    }
   ],
   "source": [
    "# Funcionando \"bem demais\"\n",
    "\n",
    "( x, niter ) = secante( np.sin, ( 3.1, 3.11 ), return_niter = True )\n",
    "print( x - np.pi, niter )\n",
    "\n",
    "# Exercício: encontre outros exemplos em que isso ocorra"
   ]
  }
 ],
 "metadata": {
  "kernelspec": {
   "display_name": "Python 3",
   "language": "python",
   "name": "python3"
  },
  "language_info": {
   "codemirror_mode": {
    "name": "ipython",
    "version": 3
   },
   "file_extension": ".py",
   "mimetype": "text/x-python",
   "name": "python",
   "nbconvert_exporter": "python",
   "pygments_lexer": "ipython3",
   "version": "3.8.5"
  }
 },
 "nbformat": 4,
 "nbformat_minor": 2
}
