{
 "cells": [
  {
   "cell_type": "code",
   "execution_count": 1,
   "metadata": {},
   "outputs": [],
   "source": [
    "import numpy as np\n",
    "import time"
   ]
  },
  {
   "cell_type": "code",
   "execution_count": 2,
   "metadata": {},
   "outputs": [],
   "source": [
    "def triu_solve( U, b ):\n",
    "    \n",
    "    n = U.shape[ 0 ]    \n",
    "    x = np.empty( ( b.shape[ 0 ], ) )\n",
    "    \n",
    "    for i in range( n - 1, -1, -1 ):\n",
    "        \n",
    "        x[ i ] = ( b[ i ] - np.sum( U[ i, i + 1 : n ] * x[ i + 1 : n ] ) ) / U[ i, i ]\n",
    "        \n",
    "    return x"
   ]
  },
  {
   "cell_type": "code",
   "execution_count": 3,
   "metadata": {},
   "outputs": [
    {
     "name": "stdout",
     "output_type": "stream",
     "text": [
      "[-2.  6. -4.  1.]\n"
     ]
    }
   ],
   "source": [
    "U = np.array(\n",
    "    [\n",
    "        [ 1.0, 1.0,  1.0,  1.0 ],\n",
    "        [ 0.0, 1.0,  2.0,  3.0 ],\n",
    "        [ 0.0, 0.0, -1.0, -4.0 ],\n",
    "        [ 0.0, 0.0,  0.0,  3.0 ]\n",
    "    ]\n",
    ")\n",
    "b_til = np.array( [ 1.0, 1.0, 0.0, 3.0 ] )\n",
    "\n",
    "x = triu_solve( U, b_til )\n",
    "\n",
    "print( x )"
   ]
  },
  {
   "cell_type": "code",
   "execution_count": 4,
   "metadata": {},
   "outputs": [
    {
     "name": "stdout",
     "output_type": "stream",
     "text": [
      "[1. 2. 3. 4.]\n"
     ]
    }
   ],
   "source": [
    "A = np.array(\n",
    "    [\n",
    "        [ 1.0, 1.0, 1.0, 1.0 ],\n",
    "        [ 1.0, 2.0, 3.0, 4.0 ],\n",
    "        [ 1.0, 3.0, 4.0, 3.0 ],\n",
    "        [ 1.0, 1.0, 0.0, 0.0 ]\n",
    "    ]\n",
    ")\n",
    "\n",
    "b = np.array( [ 1.0, 2.0, 3.0, 4.0 ] )\n",
    "\n",
    "print( A @ x )"
   ]
  },
  {
   "cell_type": "code",
   "execution_count": 5,
   "metadata": {},
   "outputs": [],
   "source": [
    "def elimina( A, b ):\n",
    "    \n",
    "    n = A.shape[ 0 ]\n",
    "    \n",
    "    for i in range( n ):\n",
    "        for k in range( i + 1, n ):\n",
    "            \n",
    "            alpha = A[ k, i ] / A[ i, i ]\n",
    "            \n",
    "            for j in range( i, n ):\n",
    "                A[ k, j ] = A[ k, j ] - alpha * A[ i, j ]\n",
    "                \n",
    "            b[ k ] = b[ k ] - alpha * b[ i ]"
   ]
  },
  {
   "cell_type": "code",
   "execution_count": 6,
   "metadata": {},
   "outputs": [
    {
     "name": "stdout",
     "output_type": "stream",
     "text": [
      "[[ 1.  1.  1.  1.]\n",
      " [ 0.  1.  2.  3.]\n",
      " [ 0.  0. -1. -4.]\n",
      " [ 0.  0.  0.  3.]] [1. 1. 0. 3.] [-2.  6. -4.  1.]\n"
     ]
    }
   ],
   "source": [
    "A_copy = A.copy()\n",
    "b_copy = b.copy()\n",
    "\n",
    "elimina( A_copy, b_copy )\n",
    "x = triu_solve( A_copy, b_copy )\n",
    "\n",
    "print( A_copy, b_copy, x )"
   ]
  },
  {
   "cell_type": "code",
   "execution_count": 7,
   "metadata": {},
   "outputs": [
    {
     "name": "stdout",
     "output_type": "stream",
     "text": [
      "[[0. 1.]\n",
      " [1. 0.]]\n",
      "None\n",
      "[[  0.   1.]\n",
      " [ nan -inf]]\n"
     ]
    },
    {
     "name": "stderr",
     "output_type": "stream",
     "text": [
      "/home/elias/.local/lib/python3.6/site-packages/ipykernel_launcher.py:8: RuntimeWarning: divide by zero encountered in double_scalars\n",
      "  \n",
      "/home/elias/.local/lib/python3.6/site-packages/ipykernel_launcher.py:11: RuntimeWarning: invalid value encountered in double_scalars\n",
      "  # This is added back by InteractiveShellApp.init_path()\n"
     ]
    }
   ],
   "source": [
    "A_chata = np.array( [ [ 0.0, 1.0 ], [ 1.0, 0.0 ] ] )\n",
    "print( A_chata )\n",
    "print( elimina( A_chata, np.array( [ 1.0, 2.0 ] ) ) )\n",
    "print( A_chata )"
   ]
  },
  {
   "cell_type": "code",
   "execution_count": 8,
   "metadata": {},
   "outputs": [],
   "source": [
    "def lin_solve( A, b ):\n",
    "    \n",
    "    A_copy = A.copy()\n",
    "    b_copy = b.copy()\n",
    "    \n",
    "    elimina( A_copy, b_copy )\n",
    "    \n",
    "    return triu_solve( A_copy, b_copy )"
   ]
  },
  {
   "cell_type": "code",
   "execution_count": 9,
   "metadata": {},
   "outputs": [
    {
     "data": {
      "text/plain": [
       "2655.643881855042"
      ]
     },
     "execution_count": 9,
     "metadata": {},
     "output_type": "execute_result"
    }
   ],
   "source": [
    "n = 300\n",
    "A = np.random.normal( size = ( n, n ) )\n",
    "b = np.random.normal( size = ( n, ) )\n",
    "\n",
    "np.linalg.cond( A )"
   ]
  },
  {
   "cell_type": "code",
   "execution_count": 10,
   "metadata": {},
   "outputs": [
    {
     "name": "stdout",
     "output_type": "stream",
     "text": [
      "5.296715974807739\n",
      "2.7619684317414794e-11\n"
     ]
    }
   ],
   "source": [
    "start = time.time()\n",
    "x = lin_solve( A, b )\n",
    "print( time.time() - start )\n",
    "\n",
    "print( np.max( np.abs( A @ x - b ) ) )"
   ]
  },
  {
   "cell_type": "code",
   "execution_count": 11,
   "metadata": {},
   "outputs": [
    {
     "name": "stdout",
     "output_type": "stream",
     "text": [
      "0.25220465660095215\n",
      "2.7619684317414794e-11\n"
     ]
    }
   ],
   "source": [
    "def elimina_II( A, b ):\n",
    "    \n",
    "    n = A.shape[ 0 ]\n",
    "    \n",
    "    for i in range( n ):\n",
    "        for k in range( i + 1, n ):\n",
    "            \n",
    "            alpha = A[ k, i ] / A[ i, i ]\n",
    "            \n",
    "            A[ k, i : n ] = A[ k, i : n ] - alpha * A[ i, i : n ]\n",
    "                \n",
    "            b[ k ] = b[ k ] - alpha * b[ i ]\n",
    "            \n",
    "def lin_solve_II( A, b ):\n",
    "    \n",
    "    A_copy = A.copy()\n",
    "    b_copy = b.copy()\n",
    "    \n",
    "    elimina_II( A_copy, b_copy )\n",
    "    \n",
    "    return triu_solve( A_copy, b_copy )\n",
    "\n",
    "start = time.time()\n",
    "x_II = lin_solve_II( A, b )\n",
    "print( time.time() - start )\n",
    "\n",
    "print( np.max( np.abs( A @ x_II - b ) ) )"
   ]
  },
  {
   "cell_type": "code",
   "execution_count": 12,
   "metadata": {},
   "outputs": [
    {
     "name": "stdout",
     "output_type": "stream",
     "text": [
      "4509.054114678426\n",
      "1.2976608276367188\n",
      "1.0559580987390405e-09\n"
     ]
    }
   ],
   "source": [
    "n = 1000\n",
    "A = np.random.normal( size = ( n, n ) )\n",
    "b = np.random.normal( size = ( n, ) )\n",
    "\n",
    "print( np.linalg.cond( A ) )\n",
    "\n",
    "def elimina_III( A, b ):\n",
    "    \n",
    "    n = A.shape[ 0 ]\n",
    "    \n",
    "    for i in range( n ):\n",
    "        alpha = A[ i + 1 : n, [ i ] ] / A[ i, i ]\n",
    "\n",
    "        A[ i + 1 : n, i : n ] = A[ i + 1 : n, i : n ] - alpha * A[ i, i : n ]\n",
    "\n",
    "        b[ i + 1 : n ] = b[ i + 1 : n ] - np.squeeze( alpha ) * b[ i ]\n",
    "            \n",
    "def lin_solve_III( A, b ):\n",
    "    \n",
    "    A_copy = A.copy()\n",
    "    b_copy = b.copy()\n",
    "    \n",
    "    elimina_III( A_copy, b_copy )\n",
    "    \n",
    "    return triu_solve( A_copy, b_copy )\n",
    "\n",
    "start = time.time()\n",
    "x_III = lin_solve_III( A, b )\n",
    "print( time.time() - start )\n",
    "\n",
    "print( np.max( np.abs( A @ x_III - b ) ) )"
   ]
  },
  {
   "cell_type": "code",
   "execution_count": 13,
   "metadata": {},
   "outputs": [
    {
     "name": "stdout",
     "output_type": "stream",
     "text": [
      "[[1. 1. 1.]\n",
      " [1. 1. 1.]\n",
      " [1. 1. 1.]\n",
      " [1. 1. 1.]\n",
      " [1. 1. 1.]]\n"
     ]
    }
   ],
   "source": [
    "# Broadcasting\n",
    "print( np.ones( ( 5, 1 ) ) * np.ones( ( 1, 3 ) ) )"
   ]
  },
  {
   "cell_type": "code",
   "execution_count": null,
   "metadata": {},
   "outputs": [],
   "source": []
  }
 ],
 "metadata": {
  "kernelspec": {
   "display_name": "Python 3",
   "language": "python",
   "name": "python3"
  },
  "language_info": {
   "codemirror_mode": {
    "name": "ipython",
    "version": 3
   },
   "file_extension": ".py",
   "mimetype": "text/x-python",
   "name": "python",
   "nbconvert_exporter": "python",
   "pygments_lexer": "ipython3",
   "version": "3.8.5"
  }
 },
 "nbformat": 4,
 "nbformat_minor": 2
}
