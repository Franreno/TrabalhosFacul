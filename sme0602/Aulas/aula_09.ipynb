{
 "cells": [
  {
   "cell_type": "markdown",
   "metadata": {},
   "source": [
    "# Fatoração $PA= LU$"
   ]
  },
  {
   "cell_type": "code",
   "execution_count": 1,
   "metadata": {},
   "outputs": [],
   "source": [
    "def elimina_gauss( A ):\n",
    "    \n",
    "    n = A.shape[ 0 ]\n",
    "    L = np.eye( n )\n",
    "    U = A.copy()\n",
    "    \n",
    "    retval = [ [ L.copy(), U.copy() ] ]\n",
    "    \n",
    "    for i in range( n ):\n",
    "        for k in range( i + 1, n ):\n",
    "            \n",
    "            alpha = U[ k, i ] / U[ i, i ]\n",
    "            \n",
    "            for j in range( i, n ):\n",
    "                U[ k, j ] = U[ k, j ] - alpha * U[ i, j ]\n",
    "                \n",
    "            L[ k, i ] = alpha\n",
    "            \n",
    "            retval.append( [ L.copy(), U.copy() ] )\n",
    "            \n",
    "    return retval\n",
    "\n",
    "def mostra_matriz(\n",
    "    A_list,\n",
    "    b = None,\n",
    "    format_str = [ '%f' ],\n",
    "    l_delim = '(', r_delim = ')',\n",
    "    spacer = [ '' ],\n",
    "    thres = [ None ],\n",
    "    destaque_red = [],\n",
    "    destaque_blue = [],\n",
    "    destaque_green = [],\n",
    "    quiet = False,\n",
    "    replace = [ '' ],\n",
    "    replace_other = None\n",
    "):\n",
    "    out_latex = '$$\\n'\n",
    "    count = 0\n",
    "    for A in A_list:\n",
    "        \n",
    "        if thres[ count % len( thres ) ] is None:\n",
    "            thres[ count % len( thres ) ] = np.full( A.shape, -1e-5 )\n",
    "        \n",
    "        ( m, n ) = A.shape\n",
    "\n",
    "        out_latex += '   \\\\left' + l_delim + '\\n      \\\\begin{array}{' + ( n * 'r' ) + '}\\n'\n",
    "        for i in range( m ):\n",
    "            out_latex += '         '\n",
    "            for j in range( n ):\n",
    "                if abs( A[ i, j ] ) >= thres[ count % len( thres ) ][ i, j ]:\n",
    "                    if not ( replace_other is None ):\n",
    "                        out_latex += replace_other[ count % len( replace_other ) ] + '&'\n",
    "                    elif ( count, i, j ) in destaque_green:\n",
    "                        out_latex += '\\\\color{green}{'\n",
    "                        out_latex += ( format_str[ count % len( format_str ) ] + '}&' ) % ( A[ i, j ], )\n",
    "                    elif ( count, i, j ) in destaque_red:\n",
    "                        out_latex += '\\\\color{red}{'\n",
    "                        out_latex += ( format_str[ count % len( format_str ) ] + '}&' ) % ( A[ i, j ], )\n",
    "                    elif ( count, i, j ) in destaque_blue:\n",
    "                        out_latex += '\\\\color{blue}{'\n",
    "                        out_latex += ( format_str[ count % len( format_str ) ] + '}&' ) % ( A[ i, j ], )\n",
    "                    else:\n",
    "                        out_latex += ( format_str[ count % len( format_str ) ] + '&' ) % ( A[ i, j ], )\n",
    "                else:\n",
    "                    out_latex += replace[ count % len( replace ) ] + '&'\n",
    "            out_latex = out_latex[ : -1 ]\n",
    "            if i < m - 1:\n",
    "                out_latex += '\\\\\\\\'\n",
    "            out_latex += '\\n'\n",
    "\n",
    "        out_latex += '      \\\\end{array}\\n   \\\\right' + r_delim + spacer[ count % len( spacer ) ]\n",
    "        count = count + 1\n",
    "    \n",
    "    out_latex += '\\n$$'\n",
    "    \n",
    "    if not quiet:\n",
    "        dp.display_latex( dp.Latex( out_latex ) )\n",
    "    return out_latex"
   ]
  },
  {
   "cell_type": "code",
   "execution_count": 2,
   "metadata": {},
   "outputs": [],
   "source": [
    "import numpy as np\n",
    "import IPython.display as dp"
   ]
  },
  {
   "cell_type": "code",
   "execution_count": 3,
   "metadata": {},
   "outputs": [
    {
     "data": {
      "text/latex": [
       "$$\n",
       "   \\left(\n",
       "      \\begin{array}{rr}\n",
       "         1.000000e-20&1.000000e+00\\\\\n",
       "         1.000000e+00&1.000000e+00\n",
       "      \\end{array}\n",
       "   \\right)\n",
       "$$"
      ]
     },
     "metadata": {},
     "output_type": "display_data"
    }
   ],
   "source": [
    "A = np.array( [ [ 1e-20, 1 ], [ 1, 1 ] ] )\n",
    "_ = mostra_matriz(\n",
    "    [\n",
    "        A\n",
    "    ],\n",
    "    thres = [ np.full( A.shape, -1e-5 ) ],\n",
    "    format_str = [ '%e' ]\n",
    ")"
   ]
  },
  {
   "cell_type": "code",
   "execution_count": 4,
   "metadata": {},
   "outputs": [
    {
     "data": {
      "text/latex": [
       "$$\n",
       "   \\left(\n",
       "      \\begin{array}{rr}\n",
       "         1.000000e-20&1.000000e+00\\\\\n",
       "         1.000000e+00&0.000000e+00\n",
       "      \\end{array}\n",
       "   \\right)\n",
       "$$"
      ]
     },
     "metadata": {},
     "output_type": "display_data"
    }
   ],
   "source": [
    "res = elimina_gauss( A )\n",
    "\n",
    "_ = mostra_matriz(\n",
    "    [\n",
    "        res[ -1 ][ 0 ] @ res[ -1 ][ 1 ]\n",
    "    ],\n",
    "    thres = [ np.full( A.shape, -1e-5 ) ],\n",
    "    format_str = [ '%e' ]\n",
    ")"
   ]
  },
  {
   "cell_type": "markdown",
   "metadata": {},
   "source": [
    "Podemos pensar a eliminação gaussiana como um processo de inclusão de zeros da seguinte maneira:\n",
    "\n",
    "$$\\large\n",
    "L_{n - 1}\\cdots L_2L_1A = U \\Rightarrow L^{-1}A = U \\Rightarrow A = LU\n",
    "$$"
   ]
  },
  {
   "cell_type": "code",
   "execution_count": 5,
   "metadata": {},
   "outputs": [
    {
     "data": {
      "text/latex": [
       "$$\n",
       "   \\left(\n",
       "      \\begin{array}{rrrrrrrrrr}\n",
       "         1&&&&&&&&&\\\\\n",
       "         &1&&&&&&&&\\\\\n",
       "         &&1&&&&&&&\\\\\n",
       "         &&&1&&&&&&\\\\\n",
       "         &&&-1&1&&&&&\\\\\n",
       "         &&&-1&&1&&&&\\\\\n",
       "         &&&-1&&&1&&&\\\\\n",
       "         &&&-1&&&&1&&\\\\\n",
       "         &&&-1&&&&&1&\\\\\n",
       "         &&&-1&&&&&&1\n",
       "      \\end{array}\n",
       "   \\right)\n",
       "$$"
      ]
     },
     "metadata": {},
     "output_type": "display_data"
    }
   ],
   "source": [
    "n = 10\n",
    "A = np.eye( 10 )\n",
    "j = 3\n",
    "for i in range( j + 1, n ):\n",
    "    A[ i, j ] = '-1'\n",
    "_ = mostra_matriz(\n",
    "    [\n",
    "        A\n",
    "    ],\n",
    "    thres = [ np.full( A.shape, 1e-5 ) ],\n",
    "    format_str = [ '%.f' ]\n",
    ")"
   ]
  },
  {
   "cell_type": "code",
   "execution_count": 6,
   "metadata": {},
   "outputs": [],
   "source": [
    "def LU_pp( A ):\n",
    "    \n",
    "    n = A.shape[ 0 ]\n",
    "    p = list( range( n ) )\n",
    "    \n",
    "    for i in range( n ):\n",
    "        \n",
    "        I = np.argmax( np.abs( A[ i :, i ] ) ) + i\n",
    "    \n",
    "        tmp = A[ i, : ].copy()\n",
    "        A[ i, : ] = A[ I, : ]\n",
    "        A[ I, : ] = tmp\n",
    "        \n",
    "        tmp = p[ i ]\n",
    "        p[ i ] = p[ I ]\n",
    "        p[ I ] = tmp\n",
    "        \n",
    "        alpha = A[ i + 1 :, [ i ] ] / A[ i, i ]\n",
    "        A[ i + 1 :, i : ] = A[ i + 1 :, i : ] - alpha * A[ i, i : ]\n",
    "        \n",
    "        A[ i + 1 :, i ] = alpha.flatten()\n",
    "\n",
    "    return ( A, p )\n",
    "        \n",
    "def LU_separa( A ):\n",
    "    \n",
    "    U = np.triu( A )\n",
    "    L = np.eye( A.shape[ 0 ] )\n",
    "    L = L + np.tril( A, -1 )\n",
    "    \n",
    "    return ( L, U )\n",
    "\n",
    "def triu_solve( U, b ):\n",
    "    \n",
    "    n = U.shape[ 0 ]    \n",
    "    x = np.empty( ( b.shape[ 0 ], ) )\n",
    "    \n",
    "    for i in range( n - 1, -1, -1 ):\n",
    "        \n",
    "        x[ i ] = ( b[ i ] - np.sum( U[ i, i + 1 : n ] * x[ i + 1 : n ] ) ) / U[ i, i ]\n",
    "        \n",
    "    return x\n",
    "\n",
    "def tril_solve( L, b ):\n",
    "    \n",
    "    n = L.shape[ 0 ]    \n",
    "    x = np.empty( b.shape )\n",
    "    \n",
    "    for i in range( n ):\n",
    "        \n",
    "        x[ i ] = b[ i ] - np.sum( L[ i, : i ] * x[ : i ] )\n",
    "        \n",
    "    return x\n",
    "\n",
    "def inversa_pp( A ):\n",
    "    \n",
    "    A_copy = A.copy()\n",
    "    ( A_copy, p ) = LU_pp( A_copy )\n",
    "    \n",
    "    n = A.shape[ 0 ]\n",
    "    \n",
    "    inv = np.empty( ( n, n ) )\n",
    "    \n",
    "    for j in range( n ):\n",
    "        \n",
    "        e = np.zeros( ( n, ) )\n",
    "        e[ j ] = 1.0\n",
    "        \n",
    "        y = tril_solve( A_copy, e[ p ] )\n",
    "        inv[ :, j ] = triu_solve( A_copy, y )\n",
    "        \n",
    "    return inv\n",
    "\n",
    "def LU( A ):\n",
    "    \n",
    "    n = A.shape[ 0 ]\n",
    "    \n",
    "    for i in range( n ):\n",
    "        alpha = A[ i + 1 : n, [ i ] ] / A[ i, i ]\n",
    "        A[ i + 1 : n, i : n ] = A[ i + 1 : n, i : n ] - alpha * A[ i, i : n ]\n",
    "        \n",
    "        A[ i + 1 : n, i ] = alpha.flatten()\n",
    "\n",
    "def inversa( A ):\n",
    "    \n",
    "    A_copy = A.copy()\n",
    "    LU( A_copy )\n",
    "    \n",
    "    n = A.shape[ 0 ]\n",
    "    \n",
    "    inv = np.empty( ( n, n ) )\n",
    "    \n",
    "    for j in range( n ):\n",
    "        \n",
    "        e = np.zeros( ( n, ) )\n",
    "        e[ j ] = 1.0\n",
    "        \n",
    "        y = tril_solve( A_copy, e )\n",
    "        inv[ :, j ] = triu_solve( A_copy, y )\n",
    "        \n",
    "    return inv"
   ]
  },
  {
   "cell_type": "code",
   "execution_count": 7,
   "metadata": {},
   "outputs": [],
   "source": [
    "n = 400\n",
    "A = np.random.normal( size = ( n, n ) )"
   ]
  },
  {
   "cell_type": "code",
   "execution_count": 8,
   "metadata": {},
   "outputs": [
    {
     "name": "stdout",
     "output_type": "stream",
     "text": [
      "1.93 s ± 39.1 ms per loop (mean ± std. dev. of 7 runs, 1 loop each)\n"
     ]
    }
   ],
   "source": [
    "%timeit A_inv = inversa( A )"
   ]
  },
  {
   "cell_type": "code",
   "execution_count": 9,
   "metadata": {},
   "outputs": [],
   "source": [
    "A_inv = inversa( A )"
   ]
  },
  {
   "cell_type": "code",
   "execution_count": 10,
   "metadata": {},
   "outputs": [
    {
     "name": "stdout",
     "output_type": "stream",
     "text": [
      "1.93 s ± 31.1 ms per loop (mean ± std. dev. of 7 runs, 1 loop each)\n"
     ]
    }
   ],
   "source": [
    "%timeit A_inv_pp = inversa_pp( A )"
   ]
  },
  {
   "cell_type": "code",
   "execution_count": 11,
   "metadata": {},
   "outputs": [],
   "source": [
    "A_inv_pp = inversa_pp( A )"
   ]
  },
  {
   "cell_type": "code",
   "execution_count": 12,
   "metadata": {},
   "outputs": [
    {
     "name": "stdout",
     "output_type": "stream",
     "text": [
      "9.293537051036083e-10\n",
      "8.615330671091215e-14\n"
     ]
    }
   ],
   "source": [
    "print( np.max( np.abs( A_inv @ A - np.eye( n ) ) ) )\n",
    "print( np.max( np.abs( A_inv_pp @ A - np.eye( n ) ) ) )"
   ]
  },
  {
   "cell_type": "markdown",
   "metadata": {},
   "source": [
    "# Sistemas de equações não-lineares"
   ]
  },
  {
   "cell_type": "markdown",
   "metadata": {},
   "source": [
    "Passaremos a abordar a solução de sistemas de equações não-lineares do tipo\n",
    "\n",
    "$$\\large\\def\\vect{\\boldsymbol}\n",
    "\\vect F( \\vect x ) = \\vect 0,\n",
    "$$\n",
    "onde $\\vect F: \\mathbb R^n \\to \\mathbb R^n$."
   ]
  },
  {
   "cell_type": "markdown",
   "metadata": {},
   "source": [
    "Ou seja,\n",
    "$$\\large\n",
    "\\vect F( \\vect x ) = \\begin{pmatrix}F_1( \\vect x )\\\\F_2( \\vect x )\\\\\\vdots\\\\F_n( \\vect x )\\end{pmatrix}\n",
    "$$"
   ]
  },
  {
   "cell_type": "markdown",
   "metadata": {},
   "source": [
    "onde $F_i : \\mathbb R^n \\to \\mathbb R$."
   ]
  },
  {
   "cell_type": "markdown",
   "metadata": {},
   "source": [
    "Desta forma, nosso sistema de equações não-lineares é equivalente a resolver\n",
    "Ou seja,\n",
    "$$\\large\n",
    "\\begin{split}\n",
    "    F_1( \\vect x ) &{}= 0\\\\\n",
    "    F_2( \\vect x ) &{}= 0\\\\\n",
    "    &{}\\vdots\\\\\n",
    "    F_n( \\vect x ) &{}= 0\n",
    "\\end{split}\n",
    "$$"
   ]
  },
  {
   "cell_type": "code",
   "execution_count": null,
   "metadata": {},
   "outputs": [],
   "source": []
  }
 ],
 "metadata": {
  "kernelspec": {
   "display_name": "Python 3",
   "language": "python",
   "name": "python3"
  },
  "language_info": {
   "codemirror_mode": {
    "name": "ipython",
    "version": 3
   },
   "file_extension": ".py",
   "mimetype": "text/x-python",
   "name": "python",
   "nbconvert_exporter": "python",
   "pygments_lexer": "ipython3",
   "version": "3.6.9"
  }
 },
 "nbformat": 4,
 "nbformat_minor": 2
}
